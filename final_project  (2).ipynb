{
 "cells": [
  {
   "cell_type": "code",
   "execution_count": 2,
   "metadata": {},
   "outputs": [],
   "source": [
    "import os\n",
    "import pandas as pd\n",
    "from pandas import DataFrame\n",
    "import numpy as np\n",
    "import seaborn as sns\n",
    "import matplotlib.pyplot as plt"
   ]
  },
  {
   "cell_type": "code",
   "execution_count": 3,
   "metadata": {},
   "outputs": [],
   "source": [
    "data=pd.read_excel('Student Applications.xlsx')"
   ]
  },
  {
   "cell_type": "code",
   "execution_count": 4,
   "metadata": {},
   "outputs": [
    {
     "data": {
      "text/plain": [
       "(3400, 56)"
      ]
     },
     "execution_count": 4,
     "metadata": {},
     "output_type": "execute_result"
    }
   ],
   "source": [
    "data.shape"
   ]
  },
  {
   "cell_type": "code",
   "execution_count": 5,
   "metadata": {},
   "outputs": [
    {
     "name": "stdout",
     "output_type": "stream",
     "text": [
      "<class 'pandas.core.frame.DataFrame'>\n",
      "RangeIndex: 3400 entries, 0 to 3399\n",
      "Data columns (total 56 columns):\n",
      " #   Column                    Non-Null Count  Dtype  \n",
      "---  ------                    --------------  -----  \n",
      " 0   STUDENT IDENTIFIER        3400 non-null   int64  \n",
      " 1   STDNT_AGE                 3400 non-null   int64  \n",
      " 2   STDNT_GENDER              3400 non-null   object \n",
      " 3   STDNT_BACKGROUND          3400 non-null   object \n",
      " 4   IN_STATE_FLAG             3400 non-null   object \n",
      " 5   INTERNATIONAL_STS         3400 non-null   object \n",
      " 6   STDNT_MAJOR               3400 non-null   object \n",
      " 7   STDNT_MINOR               3400 non-null   object \n",
      " 8   STDNT_TEST_ENTRANCE1      1106 non-null   float64\n",
      " 9   STDNT_TEST_ENTRANCE2      2492 non-null   float64\n",
      " 10  STDNT_TEST_ENTRANCE_COMB  2882 non-null   float64\n",
      " 11  FIRST_TERM                3400 non-null   int64  \n",
      " 12  CORE_COURSE_NAME_1_F      3400 non-null   object \n",
      " 13  CORE_COURSE_GRADE_1_F     3400 non-null   object \n",
      " 14  CORE_COURSE_NAME_2_F      3301 non-null   object \n",
      " 15  CORE_COURSE_GRADE_2_F     3301 non-null   object \n",
      " 16  CORE_COURSE_NAME_3_F      2835 non-null   object \n",
      " 17  CORE_COURSE_GRADE_3_F     2835 non-null   object \n",
      " 18  CORE_COURSE_NAME_4_F      1803 non-null   object \n",
      " 19  CORE_COURSE_GRADE_4_F     1803 non-null   object \n",
      " 20  CORE_COURSE_NAME_5_F      645 non-null    object \n",
      " 21  CORE_COURSE_GRADE_5_F     645 non-null    object \n",
      " 22  CORE_COURSE_NAME_6_F      128 non-null    object \n",
      " 23  CORE_COURSE_GRADE_6_F     128 non-null    object \n",
      " 24  SECOND_TERM               3400 non-null   int64  \n",
      " 25  CORE_COURSE_NAME_1_S      3243 non-null   object \n",
      " 26  CORE_COURSE_GRADE_1_S     3168 non-null   object \n",
      " 27  CORE_COURSE_NAME_2_S      2961 non-null   object \n",
      " 28  CORE_COURSE_GRADE_2_S     2961 non-null   object \n",
      " 29  CORE_COURSE_NAME_3_S      2362 non-null   object \n",
      " 30  CORE_COURSE_GRADE_3_S     2362 non-null   object \n",
      " 31  CORE_COURSE_NAME_4_S      1355 non-null   object \n",
      " 32  CORE_COURSE_GRADE_4_S     1355 non-null   object \n",
      " 33  CORE_COURSE_NAME_5_S      450 non-null    object \n",
      " 34  CORE_COURSE_GRADE_5_S     450 non-null    object \n",
      " 35  CORE_COURSE_NAME_6_S      81 non-null     object \n",
      " 36  CORE_COURSE_GRADE_6_S     81 non-null     object \n",
      " 37  HOUSING_STS               3400 non-null   object \n",
      " 38  RETURNED_2ND_YR           3400 non-null   int64  \n",
      " 39  DISTANCE_FROM_HOME        3375 non-null   float64\n",
      " 40  HIGH_SCHL_GPA             3347 non-null   float64\n",
      " 41  HIGH_SCHL_NAME            3399 non-null   object \n",
      " 42  FATHER_HI_EDU_CD          2968 non-null   float64\n",
      " 43  FATHER_HI_EDU_DESC        3400 non-null   object \n",
      " 44  MOTHER_HI_EDU_CD          2911 non-null   float64\n",
      " 45  MOTHER_HI_EDU_DESC        3400 non-null   object \n",
      " 46  DEGREE_GROUP_CD           3400 non-null   object \n",
      " 47  DEGREE_GROUP_DESC         3400 non-null   object \n",
      " 48  FIRST_TERM_ATTEMPT_HRS    3400 non-null   int64  \n",
      " 49  FIRST_TERM_EARNED_HRS     3400 non-null   int64  \n",
      " 50  SECOND_TERM_ATTEMPT_HRS   3194 non-null   float64\n",
      " 51  SECOND_TERM_EARNED_HRS    3191 non-null   float64\n",
      " 52  GROSS_FIN_NEED            3400 non-null   int64  \n",
      " 53  COST_OF_ATTEND            3400 non-null   int64  \n",
      " 54  EST_FAM_CONTRIBUTION      3400 non-null   int64  \n",
      " 55  UNMET_NEED                3400 non-null   float64\n",
      "dtypes: float64(10), int64(10), object(36)\n",
      "memory usage: 1.5+ MB\n"
     ]
    }
   ],
   "source": [
    "data.info()"
   ]
  },
  {
   "cell_type": "code",
   "execution_count": 6,
   "metadata": {},
   "outputs": [
    {
     "data": {
      "text/html": [
       "<div>\n",
       "<style scoped>\n",
       "    .dataframe tbody tr th:only-of-type {\n",
       "        vertical-align: middle;\n",
       "    }\n",
       "\n",
       "    .dataframe tbody tr th {\n",
       "        vertical-align: top;\n",
       "    }\n",
       "\n",
       "    .dataframe thead th {\n",
       "        text-align: right;\n",
       "    }\n",
       "</style>\n",
       "<table border=\"1\" class=\"dataframe\">\n",
       "  <thead>\n",
       "    <tr style=\"text-align: right;\">\n",
       "      <th></th>\n",
       "      <th>STUDENT IDENTIFIER</th>\n",
       "      <th>STDNT_AGE</th>\n",
       "      <th>STDNT_GENDER</th>\n",
       "      <th>STDNT_BACKGROUND</th>\n",
       "      <th>IN_STATE_FLAG</th>\n",
       "      <th>INTERNATIONAL_STS</th>\n",
       "      <th>STDNT_MAJOR</th>\n",
       "      <th>STDNT_MINOR</th>\n",
       "      <th>STDNT_TEST_ENTRANCE1</th>\n",
       "      <th>STDNT_TEST_ENTRANCE2</th>\n",
       "      <th>...</th>\n",
       "      <th>DEGREE_GROUP_CD</th>\n",
       "      <th>DEGREE_GROUP_DESC</th>\n",
       "      <th>FIRST_TERM_ATTEMPT_HRS</th>\n",
       "      <th>FIRST_TERM_EARNED_HRS</th>\n",
       "      <th>SECOND_TERM_ATTEMPT_HRS</th>\n",
       "      <th>SECOND_TERM_EARNED_HRS</th>\n",
       "      <th>GROSS_FIN_NEED</th>\n",
       "      <th>COST_OF_ATTEND</th>\n",
       "      <th>EST_FAM_CONTRIBUTION</th>\n",
       "      <th>UNMET_NEED</th>\n",
       "    </tr>\n",
       "  </thead>\n",
       "  <tbody>\n",
       "    <tr>\n",
       "      <th>0</th>\n",
       "      <td>7808615</td>\n",
       "      <td>18</td>\n",
       "      <td>F</td>\n",
       "      <td>BGD 1</td>\n",
       "      <td>Y</td>\n",
       "      <td>N</td>\n",
       "      <td>Undeclared</td>\n",
       "      <td>N</td>\n",
       "      <td>NaN</td>\n",
       "      <td>1150.0</td>\n",
       "      <td>...</td>\n",
       "      <td>B</td>\n",
       "      <td>Bachelors</td>\n",
       "      <td>16</td>\n",
       "      <td>16</td>\n",
       "      <td>14.0</td>\n",
       "      <td>14.0</td>\n",
       "      <td>0</td>\n",
       "      <td>0</td>\n",
       "      <td>0</td>\n",
       "      <td>0.0</td>\n",
       "    </tr>\n",
       "    <tr>\n",
       "      <th>1</th>\n",
       "      <td>7830063</td>\n",
       "      <td>19</td>\n",
       "      <td>F</td>\n",
       "      <td>BGD 1</td>\n",
       "      <td>N</td>\n",
       "      <td>N</td>\n",
       "      <td>Undeclared</td>\n",
       "      <td>N</td>\n",
       "      <td>26.0</td>\n",
       "      <td>NaN</td>\n",
       "      <td>...</td>\n",
       "      <td>B</td>\n",
       "      <td>Bachelors</td>\n",
       "      <td>18</td>\n",
       "      <td>18</td>\n",
       "      <td>18.0</td>\n",
       "      <td>18.0</td>\n",
       "      <td>570000</td>\n",
       "      <td>1355760</td>\n",
       "      <td>785760</td>\n",
       "      <td>459300.0</td>\n",
       "    </tr>\n",
       "    <tr>\n",
       "      <th>2</th>\n",
       "      <td>7847538</td>\n",
       "      <td>18</td>\n",
       "      <td>M</td>\n",
       "      <td>BGD 1</td>\n",
       "      <td>Y</td>\n",
       "      <td>N</td>\n",
       "      <td>Mathematics</td>\n",
       "      <td>N</td>\n",
       "      <td>NaN</td>\n",
       "      <td>1020.0</td>\n",
       "      <td>...</td>\n",
       "      <td>B</td>\n",
       "      <td>Bachelors</td>\n",
       "      <td>15</td>\n",
       "      <td>15</td>\n",
       "      <td>14.0</td>\n",
       "      <td>14.0</td>\n",
       "      <td>0</td>\n",
       "      <td>0</td>\n",
       "      <td>0</td>\n",
       "      <td>0.0</td>\n",
       "    </tr>\n",
       "    <tr>\n",
       "      <th>3</th>\n",
       "      <td>8006429</td>\n",
       "      <td>18</td>\n",
       "      <td>M</td>\n",
       "      <td>BGD 1</td>\n",
       "      <td>Y</td>\n",
       "      <td>N</td>\n",
       "      <td>Undeclared</td>\n",
       "      <td>N</td>\n",
       "      <td>NaN</td>\n",
       "      <td>1210.0</td>\n",
       "      <td>...</td>\n",
       "      <td>B</td>\n",
       "      <td>Bachelors</td>\n",
       "      <td>13</td>\n",
       "      <td>13</td>\n",
       "      <td>14.0</td>\n",
       "      <td>14.0</td>\n",
       "      <td>0</td>\n",
       "      <td>0</td>\n",
       "      <td>0</td>\n",
       "      <td>0.0</td>\n",
       "    </tr>\n",
       "    <tr>\n",
       "      <th>4</th>\n",
       "      <td>7962680</td>\n",
       "      <td>18</td>\n",
       "      <td>F</td>\n",
       "      <td>BGD 1</td>\n",
       "      <td>Y</td>\n",
       "      <td>N</td>\n",
       "      <td>Art</td>\n",
       "      <td>N</td>\n",
       "      <td>NaN</td>\n",
       "      <td>1200.0</td>\n",
       "      <td>...</td>\n",
       "      <td>B</td>\n",
       "      <td>Bachelors</td>\n",
       "      <td>12</td>\n",
       "      <td>12</td>\n",
       "      <td>12.0</td>\n",
       "      <td>12.0</td>\n",
       "      <td>835920</td>\n",
       "      <td>1355760</td>\n",
       "      <td>519840</td>\n",
       "      <td>278340.0</td>\n",
       "    </tr>\n",
       "  </tbody>\n",
       "</table>\n",
       "<p>5 rows × 56 columns</p>\n",
       "</div>"
      ],
      "text/plain": [
       "   STUDENT IDENTIFIER  STDNT_AGE STDNT_GENDER STDNT_BACKGROUND IN_STATE_FLAG  \\\n",
       "0             7808615         18            F            BGD 1             Y   \n",
       "1             7830063         19            F            BGD 1             N   \n",
       "2             7847538         18            M            BGD 1             Y   \n",
       "3             8006429         18            M            BGD 1             Y   \n",
       "4             7962680         18            F            BGD 1             Y   \n",
       "\n",
       "  INTERNATIONAL_STS  STDNT_MAJOR STDNT_MINOR  STDNT_TEST_ENTRANCE1  \\\n",
       "0                 N   Undeclared           N                   NaN   \n",
       "1                 N   Undeclared           N                  26.0   \n",
       "2                 N  Mathematics           N                   NaN   \n",
       "3                 N   Undeclared           N                   NaN   \n",
       "4                 N          Art           N                   NaN   \n",
       "\n",
       "   STDNT_TEST_ENTRANCE2  ...  DEGREE_GROUP_CD  DEGREE_GROUP_DESC  \\\n",
       "0                1150.0  ...                B          Bachelors   \n",
       "1                   NaN  ...                B          Bachelors   \n",
       "2                1020.0  ...                B          Bachelors   \n",
       "3                1210.0  ...                B          Bachelors   \n",
       "4                1200.0  ...                B          Bachelors   \n",
       "\n",
       "  FIRST_TERM_ATTEMPT_HRS FIRST_TERM_EARNED_HRS SECOND_TERM_ATTEMPT_HRS  \\\n",
       "0                     16                    16                    14.0   \n",
       "1                     18                    18                    18.0   \n",
       "2                     15                    15                    14.0   \n",
       "3                     13                    13                    14.0   \n",
       "4                     12                    12                    12.0   \n",
       "\n",
       "  SECOND_TERM_EARNED_HRS GROSS_FIN_NEED COST_OF_ATTEND EST_FAM_CONTRIBUTION  \\\n",
       "0                   14.0              0              0                    0   \n",
       "1                   18.0         570000        1355760               785760   \n",
       "2                   14.0              0              0                    0   \n",
       "3                   14.0              0              0                    0   \n",
       "4                   12.0         835920        1355760               519840   \n",
       "\n",
       "  UNMET_NEED  \n",
       "0        0.0  \n",
       "1   459300.0  \n",
       "2        0.0  \n",
       "3        0.0  \n",
       "4   278340.0  \n",
       "\n",
       "[5 rows x 56 columns]"
      ]
     },
     "execution_count": 6,
     "metadata": {},
     "output_type": "execute_result"
    }
   ],
   "source": [
    "data.head()"
   ]
  },
  {
   "cell_type": "code",
   "execution_count": 7,
   "metadata": {},
   "outputs": [
    {
     "data": {
      "text/plain": [
       "STUDENT IDENTIFIER           0.00\n",
       "STDNT_AGE                    0.00\n",
       "STDNT_GENDER                 0.00\n",
       "STDNT_BACKGROUND             0.00\n",
       "IN_STATE_FLAG                0.00\n",
       "INTERNATIONAL_STS            0.00\n",
       "STDNT_MAJOR                  0.00\n",
       "STDNT_MINOR                  0.00\n",
       "STDNT_TEST_ENTRANCE1        67.47\n",
       "STDNT_TEST_ENTRANCE2        26.71\n",
       "STDNT_TEST_ENTRANCE_COMB    15.24\n",
       "FIRST_TERM                   0.00\n",
       "CORE_COURSE_NAME_1_F         0.00\n",
       "CORE_COURSE_GRADE_1_F        0.00\n",
       "CORE_COURSE_NAME_2_F         2.91\n",
       "CORE_COURSE_GRADE_2_F        2.91\n",
       "CORE_COURSE_NAME_3_F        16.62\n",
       "CORE_COURSE_GRADE_3_F       16.62\n",
       "CORE_COURSE_NAME_4_F        46.97\n",
       "CORE_COURSE_GRADE_4_F       46.97\n",
       "CORE_COURSE_NAME_5_F        81.03\n",
       "CORE_COURSE_GRADE_5_F       81.03\n",
       "CORE_COURSE_NAME_6_F        96.24\n",
       "CORE_COURSE_GRADE_6_F       96.24\n",
       "SECOND_TERM                  0.00\n",
       "CORE_COURSE_NAME_1_S         4.62\n",
       "CORE_COURSE_GRADE_1_S        6.82\n",
       "CORE_COURSE_NAME_2_S        12.91\n",
       "CORE_COURSE_GRADE_2_S       12.91\n",
       "CORE_COURSE_NAME_3_S        30.53\n",
       "CORE_COURSE_GRADE_3_S       30.53\n",
       "CORE_COURSE_NAME_4_S        60.15\n",
       "CORE_COURSE_GRADE_4_S       60.15\n",
       "CORE_COURSE_NAME_5_S        86.76\n",
       "CORE_COURSE_GRADE_5_S       86.76\n",
       "CORE_COURSE_NAME_6_S        97.62\n",
       "CORE_COURSE_GRADE_6_S       97.62\n",
       "HOUSING_STS                  0.00\n",
       "RETURNED_2ND_YR              0.00\n",
       "DISTANCE_FROM_HOME           0.74\n",
       "HIGH_SCHL_GPA                1.56\n",
       "HIGH_SCHL_NAME               0.03\n",
       "FATHER_HI_EDU_CD            12.71\n",
       "FATHER_HI_EDU_DESC           0.00\n",
       "MOTHER_HI_EDU_CD            14.38\n",
       "MOTHER_HI_EDU_DESC           0.00\n",
       "DEGREE_GROUP_CD              0.00\n",
       "DEGREE_GROUP_DESC            0.00\n",
       "FIRST_TERM_ATTEMPT_HRS       0.00\n",
       "FIRST_TERM_EARNED_HRS        0.00\n",
       "SECOND_TERM_ATTEMPT_HRS      6.06\n",
       "SECOND_TERM_EARNED_HRS       6.15\n",
       "GROSS_FIN_NEED               0.00\n",
       "COST_OF_ATTEND               0.00\n",
       "EST_FAM_CONTRIBUTION         0.00\n",
       "UNMET_NEED                   0.00\n",
       "dtype: float64"
      ]
     },
     "execution_count": 7,
     "metadata": {},
     "output_type": "execute_result"
    }
   ],
   "source": [
    "round((data.isnull().sum()/data.shape[0])*100,2)"
   ]
  },
  {
   "cell_type": "code",
   "execution_count": 8,
   "metadata": {},
   "outputs": [],
   "source": [
    "names=data.columns.tolist()\n",
    "\n",
    "for i in range(len(names)):\n",
    "    if ((data[names[i]].isnull().sum()/data.shape[0])*100)>20:\n",
    "        data=data.drop(names[i],axis=1)"
   ]
  },
  {
   "cell_type": "code",
   "execution_count": 9,
   "metadata": {},
   "outputs": [
    {
     "name": "stdout",
     "output_type": "stream",
     "text": [
      "(3400, 40)\n"
     ]
    }
   ],
   "source": [
    "print(data.shape)"
   ]
  },
  {
   "cell_type": "code",
   "execution_count": 10,
   "metadata": {},
   "outputs": [
    {
     "data": {
      "text/html": [
       "<div>\n",
       "<style scoped>\n",
       "    .dataframe tbody tr th:only-of-type {\n",
       "        vertical-align: middle;\n",
       "    }\n",
       "\n",
       "    .dataframe tbody tr th {\n",
       "        vertical-align: top;\n",
       "    }\n",
       "\n",
       "    .dataframe thead th {\n",
       "        text-align: right;\n",
       "    }\n",
       "</style>\n",
       "<table border=\"1\" class=\"dataframe\">\n",
       "  <thead>\n",
       "    <tr style=\"text-align: right;\">\n",
       "      <th></th>\n",
       "      <th>STUDENT IDENTIFIER</th>\n",
       "      <th>STDNT_AGE</th>\n",
       "      <th>STDNT_GENDER</th>\n",
       "      <th>STDNT_BACKGROUND</th>\n",
       "      <th>IN_STATE_FLAG</th>\n",
       "      <th>INTERNATIONAL_STS</th>\n",
       "      <th>STDNT_MAJOR</th>\n",
       "      <th>STDNT_MINOR</th>\n",
       "      <th>STDNT_TEST_ENTRANCE_COMB</th>\n",
       "      <th>FIRST_TERM</th>\n",
       "      <th>...</th>\n",
       "      <th>DEGREE_GROUP_CD</th>\n",
       "      <th>DEGREE_GROUP_DESC</th>\n",
       "      <th>FIRST_TERM_ATTEMPT_HRS</th>\n",
       "      <th>FIRST_TERM_EARNED_HRS</th>\n",
       "      <th>SECOND_TERM_ATTEMPT_HRS</th>\n",
       "      <th>SECOND_TERM_EARNED_HRS</th>\n",
       "      <th>GROSS_FIN_NEED</th>\n",
       "      <th>COST_OF_ATTEND</th>\n",
       "      <th>EST_FAM_CONTRIBUTION</th>\n",
       "      <th>UNMET_NEED</th>\n",
       "    </tr>\n",
       "  </thead>\n",
       "  <tbody>\n",
       "    <tr>\n",
       "      <th>0</th>\n",
       "      <td>7808615</td>\n",
       "      <td>18</td>\n",
       "      <td>F</td>\n",
       "      <td>BGD 1</td>\n",
       "      <td>Y</td>\n",
       "      <td>N</td>\n",
       "      <td>Undeclared</td>\n",
       "      <td>N</td>\n",
       "      <td>1150.0</td>\n",
       "      <td>200708</td>\n",
       "      <td>...</td>\n",
       "      <td>B</td>\n",
       "      <td>Bachelors</td>\n",
       "      <td>16</td>\n",
       "      <td>16</td>\n",
       "      <td>14.0</td>\n",
       "      <td>14.0</td>\n",
       "      <td>0</td>\n",
       "      <td>0</td>\n",
       "      <td>0</td>\n",
       "      <td>0.0</td>\n",
       "    </tr>\n",
       "    <tr>\n",
       "      <th>1</th>\n",
       "      <td>7830063</td>\n",
       "      <td>19</td>\n",
       "      <td>F</td>\n",
       "      <td>BGD 1</td>\n",
       "      <td>N</td>\n",
       "      <td>N</td>\n",
       "      <td>Undeclared</td>\n",
       "      <td>N</td>\n",
       "      <td>1190.0</td>\n",
       "      <td>200808</td>\n",
       "      <td>...</td>\n",
       "      <td>B</td>\n",
       "      <td>Bachelors</td>\n",
       "      <td>18</td>\n",
       "      <td>18</td>\n",
       "      <td>18.0</td>\n",
       "      <td>18.0</td>\n",
       "      <td>570000</td>\n",
       "      <td>1355760</td>\n",
       "      <td>785760</td>\n",
       "      <td>459300.0</td>\n",
       "    </tr>\n",
       "    <tr>\n",
       "      <th>2</th>\n",
       "      <td>7847538</td>\n",
       "      <td>18</td>\n",
       "      <td>M</td>\n",
       "      <td>BGD 1</td>\n",
       "      <td>Y</td>\n",
       "      <td>N</td>\n",
       "      <td>Mathematics</td>\n",
       "      <td>N</td>\n",
       "      <td>1030.0</td>\n",
       "      <td>201008</td>\n",
       "      <td>...</td>\n",
       "      <td>B</td>\n",
       "      <td>Bachelors</td>\n",
       "      <td>15</td>\n",
       "      <td>15</td>\n",
       "      <td>14.0</td>\n",
       "      <td>14.0</td>\n",
       "      <td>0</td>\n",
       "      <td>0</td>\n",
       "      <td>0</td>\n",
       "      <td>0.0</td>\n",
       "    </tr>\n",
       "    <tr>\n",
       "      <th>3</th>\n",
       "      <td>8006429</td>\n",
       "      <td>18</td>\n",
       "      <td>M</td>\n",
       "      <td>BGD 1</td>\n",
       "      <td>Y</td>\n",
       "      <td>N</td>\n",
       "      <td>Undeclared</td>\n",
       "      <td>N</td>\n",
       "      <td>1220.0</td>\n",
       "      <td>200708</td>\n",
       "      <td>...</td>\n",
       "      <td>B</td>\n",
       "      <td>Bachelors</td>\n",
       "      <td>13</td>\n",
       "      <td>13</td>\n",
       "      <td>14.0</td>\n",
       "      <td>14.0</td>\n",
       "      <td>0</td>\n",
       "      <td>0</td>\n",
       "      <td>0</td>\n",
       "      <td>0.0</td>\n",
       "    </tr>\n",
       "    <tr>\n",
       "      <th>4</th>\n",
       "      <td>7962680</td>\n",
       "      <td>18</td>\n",
       "      <td>F</td>\n",
       "      <td>BGD 1</td>\n",
       "      <td>Y</td>\n",
       "      <td>N</td>\n",
       "      <td>Art</td>\n",
       "      <td>N</td>\n",
       "      <td>1190.0</td>\n",
       "      <td>200808</td>\n",
       "      <td>...</td>\n",
       "      <td>B</td>\n",
       "      <td>Bachelors</td>\n",
       "      <td>12</td>\n",
       "      <td>12</td>\n",
       "      <td>12.0</td>\n",
       "      <td>12.0</td>\n",
       "      <td>835920</td>\n",
       "      <td>1355760</td>\n",
       "      <td>519840</td>\n",
       "      <td>278340.0</td>\n",
       "    </tr>\n",
       "  </tbody>\n",
       "</table>\n",
       "<p>5 rows × 40 columns</p>\n",
       "</div>"
      ],
      "text/plain": [
       "   STUDENT IDENTIFIER  STDNT_AGE STDNT_GENDER STDNT_BACKGROUND IN_STATE_FLAG  \\\n",
       "0             7808615         18            F            BGD 1             Y   \n",
       "1             7830063         19            F            BGD 1             N   \n",
       "2             7847538         18            M            BGD 1             Y   \n",
       "3             8006429         18            M            BGD 1             Y   \n",
       "4             7962680         18            F            BGD 1             Y   \n",
       "\n",
       "  INTERNATIONAL_STS  STDNT_MAJOR STDNT_MINOR  STDNT_TEST_ENTRANCE_COMB  \\\n",
       "0                 N   Undeclared           N                    1150.0   \n",
       "1                 N   Undeclared           N                    1190.0   \n",
       "2                 N  Mathematics           N                    1030.0   \n",
       "3                 N   Undeclared           N                    1220.0   \n",
       "4                 N          Art           N                    1190.0   \n",
       "\n",
       "   FIRST_TERM  ... DEGREE_GROUP_CD DEGREE_GROUP_DESC FIRST_TERM_ATTEMPT_HRS  \\\n",
       "0      200708  ...               B         Bachelors                     16   \n",
       "1      200808  ...               B         Bachelors                     18   \n",
       "2      201008  ...               B         Bachelors                     15   \n",
       "3      200708  ...               B         Bachelors                     13   \n",
       "4      200808  ...               B         Bachelors                     12   \n",
       "\n",
       "  FIRST_TERM_EARNED_HRS SECOND_TERM_ATTEMPT_HRS SECOND_TERM_EARNED_HRS  \\\n",
       "0                    16                    14.0                   14.0   \n",
       "1                    18                    18.0                   18.0   \n",
       "2                    15                    14.0                   14.0   \n",
       "3                    13                    14.0                   14.0   \n",
       "4                    12                    12.0                   12.0   \n",
       "\n",
       "   GROSS_FIN_NEED COST_OF_ATTEND EST_FAM_CONTRIBUTION UNMET_NEED  \n",
       "0               0              0                    0        0.0  \n",
       "1          570000        1355760               785760   459300.0  \n",
       "2               0              0                    0        0.0  \n",
       "3               0              0                    0        0.0  \n",
       "4          835920        1355760               519840   278340.0  \n",
       "\n",
       "[5 rows x 40 columns]"
      ]
     },
     "execution_count": 10,
     "metadata": {},
     "output_type": "execute_result"
    }
   ],
   "source": [
    "data.head()"
   ]
  },
  {
   "cell_type": "code",
   "execution_count": 11,
   "metadata": {},
   "outputs": [
    {
     "data": {
      "text/plain": [
       "['STUDENT IDENTIFIER',\n",
       " 'STDNT_AGE',\n",
       " 'STDNT_GENDER',\n",
       " 'STDNT_BACKGROUND',\n",
       " 'IN_STATE_FLAG',\n",
       " 'INTERNATIONAL_STS',\n",
       " 'STDNT_MAJOR',\n",
       " 'STDNT_MINOR',\n",
       " 'STDNT_TEST_ENTRANCE_COMB',\n",
       " 'FIRST_TERM',\n",
       " 'CORE_COURSE_NAME_1_F',\n",
       " 'CORE_COURSE_GRADE_1_F',\n",
       " 'CORE_COURSE_NAME_2_F',\n",
       " 'CORE_COURSE_GRADE_2_F',\n",
       " 'CORE_COURSE_NAME_3_F',\n",
       " 'CORE_COURSE_GRADE_3_F',\n",
       " 'SECOND_TERM',\n",
       " 'CORE_COURSE_NAME_1_S',\n",
       " 'CORE_COURSE_GRADE_1_S',\n",
       " 'CORE_COURSE_NAME_2_S',\n",
       " 'CORE_COURSE_GRADE_2_S',\n",
       " 'HOUSING_STS',\n",
       " 'RETURNED_2ND_YR',\n",
       " 'DISTANCE_FROM_HOME',\n",
       " 'HIGH_SCHL_GPA',\n",
       " 'HIGH_SCHL_NAME',\n",
       " 'FATHER_HI_EDU_CD',\n",
       " 'FATHER_HI_EDU_DESC',\n",
       " 'MOTHER_HI_EDU_CD',\n",
       " 'MOTHER_HI_EDU_DESC',\n",
       " 'DEGREE_GROUP_CD',\n",
       " 'DEGREE_GROUP_DESC',\n",
       " 'FIRST_TERM_ATTEMPT_HRS',\n",
       " 'FIRST_TERM_EARNED_HRS',\n",
       " 'SECOND_TERM_ATTEMPT_HRS',\n",
       " 'SECOND_TERM_EARNED_HRS',\n",
       " 'GROSS_FIN_NEED',\n",
       " 'COST_OF_ATTEND',\n",
       " 'EST_FAM_CONTRIBUTION',\n",
       " 'UNMET_NEED']"
      ]
     },
     "execution_count": 11,
     "metadata": {},
     "output_type": "execute_result"
    }
   ],
   "source": [
    "data.columns.tolist()"
   ]
  },
  {
   "cell_type": "code",
   "execution_count": 12,
   "metadata": {},
   "outputs": [],
   "source": [
    "data['STDNT_LEFT']=np.where(data['RETURNED_2ND_YR']==1,0,1)"
   ]
  },
  {
   "cell_type": "code",
   "execution_count": 13,
   "metadata": {},
   "outputs": [],
   "source": [
    "data=data.drop('RETURNED_2ND_YR',axis=1)"
   ]
  },
  {
   "cell_type": "code",
   "execution_count": 15,
   "metadata": {},
   "outputs": [
    {
     "data": {
      "image/png": "[encoded data removed]",
      "text/plain": [
       "<Figure size 432x288 with 1 Axes>"
      ]
     },
     "metadata": {},
     "output_type": "display_data"
    }
   ],
   "source": [
    "plt.pie(data[\"STDNT_LEFT\"].value_counts())\n",
    "\n",
    "#piechart\n",
    "slices=data[\"STDNT_LEFT\"].value_counts()\n",
    "names=[\"student Return\",\"student left\"]\n",
    "cols=[\"m\",\"c\"]\n",
    "\n",
    "plt.pie(slices,labels=names,colors=cols,startangle=90,shadow=True,autopct=\"%1.1f%%\")\n",
    "\n",
    "plt.show()"
   ]
  },
  {
   "cell_type": "code",
   "execution_count": 14,
   "metadata": {},
   "outputs": [
    {
     "name": "stdout",
     "output_type": "stream",
     "text": [
      "Number of students attrited is 723\n",
      "Number of students not attrited is 2677\n",
      "Percentage of attrition is 21.26%\n",
      "Percentage of no attrition is 78.74%\n"
     ]
    }
   ],
   "source": [
    "print('Number of students attrited is '+ str(data[data['STDNT_LEFT']==1].shape[0]))\n",
    "print('Number of students not attrited is '+ str(data[data['STDNT_LEFT']==0].shape[0]))\n",
    "print('Percentage of attrition is '+ str((round(((len(data[data['STDNT_LEFT']==1])/data.shape[0])*100),2))) + '%')\n",
    "print('Percentage of no attrition is '+ str((round(((len(data[data['STDNT_LEFT']==0])/data.shape[0])*100),2))) + '%')"
   ]
  },
  {
   "cell_type": "code",
   "execution_count": 15,
   "metadata": {},
   "outputs": [
    {
     "data": {
      "text/plain": [
       "array(['16to18', '19to21', '22to26'], dtype=object)"
      ]
     },
     "execution_count": 15,
     "metadata": {},
     "output_type": "execute_result"
    }
   ],
   "source": [
    "data['STDNT_AGE']=data['STDNT_AGE'].replace({16:'16to18',17:'16to18',18:'16to18'})\n",
    "data['STDNT_AGE']=data['STDNT_AGE'].replace({19:'19to21',20:'19to21',21:'19to21'})\n",
    "data['STDNT_AGE']=data['STDNT_AGE'].replace({22:'22to26',23:'22to26',24:'22to26',25:'22to26',26:'22to26'})\n",
    "data.STDNT_AGE.unique()"
   ]
  },
  {
   "cell_type": "code",
   "execution_count": 16,
   "metadata": {},
   "outputs": [
    {
     "data": {
      "text/html": [
       "<div>\n",
       "<style scoped>\n",
       "    .dataframe tbody tr th:only-of-type {\n",
       "        vertical-align: middle;\n",
       "    }\n",
       "\n",
       "    .dataframe tbody tr th {\n",
       "        vertical-align: top;\n",
       "    }\n",
       "\n",
       "    .dataframe thead th {\n",
       "        text-align: right;\n",
       "    }\n",
       "</style>\n",
       "<table border=\"1\" class=\"dataframe\">\n",
       "  <thead>\n",
       "    <tr style=\"text-align: right;\">\n",
       "      <th></th>\n",
       "      <th>STDNT_AGE</th>\n",
       "      <th>STDNT_LEFT</th>\n",
       "      <th>No of attrition</th>\n",
       "      <th>Total no. of students</th>\n",
       "      <th>Attrition Percentage</th>\n",
       "    </tr>\n",
       "  </thead>\n",
       "  <tbody>\n",
       "    <tr>\n",
       "      <th>2</th>\n",
       "      <td>22to26</td>\n",
       "      <td>1</td>\n",
       "      <td>2</td>\n",
       "      <td>12</td>\n",
       "      <td>17.0</td>\n",
       "    </tr>\n",
       "    <tr>\n",
       "      <th>0</th>\n",
       "      <td>16to18</td>\n",
       "      <td>1</td>\n",
       "      <td>660</td>\n",
       "      <td>3177</td>\n",
       "      <td>21.0</td>\n",
       "    </tr>\n",
       "    <tr>\n",
       "      <th>1</th>\n",
       "      <td>19to21</td>\n",
       "      <td>1</td>\n",
       "      <td>61</td>\n",
       "      <td>211</td>\n",
       "      <td>29.0</td>\n",
       "    </tr>\n",
       "  </tbody>\n",
       "</table>\n",
       "</div>"
      ],
      "text/plain": [
       "  STDNT_AGE  STDNT_LEFT  No of attrition  Total no. of students  \\\n",
       "2    22to26           1                2                     12   \n",
       "0    16to18           1              660                   3177   \n",
       "1    19to21           1               61                    211   \n",
       "\n",
       "   Attrition Percentage  \n",
       "2                  17.0  \n",
       "0                  21.0  \n",
       "1                  29.0  "
      ]
     },
     "execution_count": 16,
     "metadata": {},
     "output_type": "execute_result"
    }
   ],
   "source": [
    "A1=data.groupby(['STDNT_AGE','STDNT_LEFT'],as_index=False)['STUDENT IDENTIFIER'].agg('count')\n",
    "A2=data.groupby('STDNT_AGE',as_index=False)['STUDENT IDENTIFIER'].agg('count')\n",
    "AGE=pd.merge(A1,A2,how='outer',on='STDNT_AGE')\n",
    "AGE=AGE.query(\"STDNT_LEFT==1\")\n",
    "AGE['Attrition Percentage']=round((AGE['STUDENT IDENTIFIER_x']/AGE['STUDENT IDENTIFIER_y'])*100,0)\n",
    "AGE.rename(columns={\"STUDENT IDENTIFIER_x\":\"No of attrition\",\"STUDENT IDENTIFIER_y\":\"Total no. of students\"},inplace=True)\n",
    "ind=[]\n",
    "for i in range(len(AGE.index)): ind=ind+[i] \n",
    "AGE.index=ind\n",
    "AGE.sort_values('Attrition Percentage')"
   ]
  },
  {
   "cell_type": "code",
   "execution_count": 17,
   "metadata": {},
   "outputs": [
    {
     "data": {
      "text/plain": [
       "Text(0, 0.5, 'Attrition Percentage of student age')"
      ]
     },
     "execution_count": 17,
     "metadata": {},
     "output_type": "execute_result"
    },
    {
     "data": {
      "image/png": "[encoded data removed]",
      "text/plain": [
       "<Figure size 432x288 with 1 Axes>"
      ]
     },
     "metadata": {
      "needs_background": "light"
     },
     "output_type": "display_data"
    }
   ],
   "source": [
    "sns.countplot(x = 'STDNT_AGE', data = data)\n",
    "plt.xlabel('Student Age')\n",
    "plt.ylabel('Attrition Percentage of student age')"
   ]
  },
  {
   "cell_type": "code",
   "execution_count": 18,
   "metadata": {},
   "outputs": [
    {
     "data": {
      "text/html": [
       "<div>\n",
       "<style scoped>\n",
       "    .dataframe tbody tr th:only-of-type {\n",
       "        vertical-align: middle;\n",
       "    }\n",
       "\n",
       "    .dataframe tbody tr th {\n",
       "        vertical-align: top;\n",
       "    }\n",
       "\n",
       "    .dataframe thead th {\n",
       "        text-align: right;\n",
       "    }\n",
       "</style>\n",
       "<table border=\"1\" class=\"dataframe\">\n",
       "  <thead>\n",
       "    <tr style=\"text-align: right;\">\n",
       "      <th></th>\n",
       "      <th>STDNT_GENDER</th>\n",
       "      <th>STDNT_LEFT</th>\n",
       "      <th>No of attrition</th>\n",
       "      <th>Total no. of students</th>\n",
       "      <th>Attrition Percentage</th>\n",
       "    </tr>\n",
       "  </thead>\n",
       "  <tbody>\n",
       "    <tr>\n",
       "      <th>1</th>\n",
       "      <td>M</td>\n",
       "      <td>1</td>\n",
       "      <td>248</td>\n",
       "      <td>1260</td>\n",
       "      <td>20.0</td>\n",
       "    </tr>\n",
       "    <tr>\n",
       "      <th>0</th>\n",
       "      <td>F</td>\n",
       "      <td>1</td>\n",
       "      <td>475</td>\n",
       "      <td>2140</td>\n",
       "      <td>22.0</td>\n",
       "    </tr>\n",
       "  </tbody>\n",
       "</table>\n",
       "</div>"
      ],
      "text/plain": [
       "  STDNT_GENDER  STDNT_LEFT  No of attrition  Total no. of students  \\\n",
       "1            M           1              248                   1260   \n",
       "0            F           1              475                   2140   \n",
       "\n",
       "   Attrition Percentage  \n",
       "1                  20.0  \n",
       "0                  22.0  "
      ]
     },
     "execution_count": 18,
     "metadata": {},
     "output_type": "execute_result"
    }
   ],
   "source": [
    "G1=data.groupby(['STDNT_GENDER','STDNT_LEFT'],as_index=False)['STUDENT IDENTIFIER'].agg('count')\n",
    "G2=data.groupby('STDNT_GENDER',as_index=False)['STUDENT IDENTIFIER'].agg('count')\n",
    "G=pd.merge(G1,G2,how='outer',on='STDNT_GENDER')\n",
    "G=G.query(\"STDNT_LEFT==1\")\n",
    "G['Attrition Percentage']=round((G['STUDENT IDENTIFIER_x']/G['STUDENT IDENTIFIER_y'])*100,0)\n",
    "G.rename(columns={\"STUDENT IDENTIFIER_x\":\"No of attrition\",\"STUDENT IDENTIFIER_y\":\"Total no. of students\"},inplace=True)\n",
    "ind=[]\n",
    "for i in range(len(G.index)): ind=ind+[i] \n",
    "G.index=ind\n",
    "G.sort_values('Attrition Percentage')"
   ]
  },
  {
   "cell_type": "code",
   "execution_count": 19,
   "metadata": {},
   "outputs": [
    {
     "data": {
      "text/plain": [
       "Text(0, 0.5, 'Attrition Percentage of student genderwise')"
      ]
     },
     "execution_count": 19,
     "metadata": {},
     "output_type": "execute_result"
    },
    {
     "data": {
      "image/png": "[encoded data removed]",
      "text/plain": [
       "<Figure size 432x288 with 1 Axes>"
      ]
     },
     "metadata": {
      "needs_background": "light"
     },
     "output_type": "display_data"
    }
   ],
   "source": [
    "sns.countplot(x = 'STDNT_GENDER', data = data)\n",
    "plt.xlabel('Student gender')\n",
    "plt.ylabel('Attrition Percentage of student genderwise')"
   ]
  },
  {
   "cell_type": "code",
   "execution_count": 20,
   "metadata": {},
   "outputs": [
    {
     "data": {
      "text/html": [
       "<div>\n",
       "<style scoped>\n",
       "    .dataframe tbody tr th:only-of-type {\n",
       "        vertical-align: middle;\n",
       "    }\n",
       "\n",
       "    .dataframe tbody tr th {\n",
       "        vertical-align: top;\n",
       "    }\n",
       "\n",
       "    .dataframe thead th {\n",
       "        text-align: right;\n",
       "    }\n",
       "</style>\n",
       "<table border=\"1\" class=\"dataframe\">\n",
       "  <thead>\n",
       "    <tr style=\"text-align: right;\">\n",
       "      <th></th>\n",
       "      <th>STDNT_LEFT</th>\n",
       "      <th>0</th>\n",
       "      <th>1</th>\n",
       "    </tr>\n",
       "    <tr>\n",
       "      <th>STDNT_AGE</th>\n",
       "      <th>STDNT_GENDER</th>\n",
       "      <th></th>\n",
       "      <th></th>\n",
       "    </tr>\n",
       "  </thead>\n",
       "  <tbody>\n",
       "    <tr>\n",
       "      <th rowspan=\"2\" valign=\"top\">16to18</th>\n",
       "      <th>F</th>\n",
       "      <td>1597</td>\n",
       "      <td>444</td>\n",
       "    </tr>\n",
       "    <tr>\n",
       "      <th>M</th>\n",
       "      <td>920</td>\n",
       "      <td>216</td>\n",
       "    </tr>\n",
       "    <tr>\n",
       "      <th rowspan=\"2\" valign=\"top\">19to21</th>\n",
       "      <th>F</th>\n",
       "      <td>66</td>\n",
       "      <td>30</td>\n",
       "    </tr>\n",
       "    <tr>\n",
       "      <th>M</th>\n",
       "      <td>84</td>\n",
       "      <td>31</td>\n",
       "    </tr>\n",
       "    <tr>\n",
       "      <th rowspan=\"2\" valign=\"top\">22to26</th>\n",
       "      <th>F</th>\n",
       "      <td>2</td>\n",
       "      <td>1</td>\n",
       "    </tr>\n",
       "    <tr>\n",
       "      <th>M</th>\n",
       "      <td>8</td>\n",
       "      <td>1</td>\n",
       "    </tr>\n",
       "  </tbody>\n",
       "</table>\n",
       "</div>"
      ],
      "text/plain": [
       "STDNT_LEFT                 0    1\n",
       "STDNT_AGE STDNT_GENDER           \n",
       "16to18    F             1597  444\n",
       "          M              920  216\n",
       "19to21    F               66   30\n",
       "          M               84   31\n",
       "22to26    F                2    1\n",
       "          M                8    1"
      ]
     },
     "execution_count": 20,
     "metadata": {},
     "output_type": "execute_result"
    }
   ],
   "source": [
    "tab1=pd.crosstab([data.STDNT_AGE,data.STDNT_GENDER],data.STDNT_LEFT)\n",
    "tab1=DataFrame(tab1)\n",
    "tab1"
   ]
  },
  {
   "cell_type": "code",
   "execution_count": 21,
   "metadata": {},
   "outputs": [
    {
     "data": {
      "text/html": [
       "<div>\n",
       "<style scoped>\n",
       "    .dataframe tbody tr th:only-of-type {\n",
       "        vertical-align: middle;\n",
       "    }\n",
       "\n",
       "    .dataframe tbody tr th {\n",
       "        vertical-align: top;\n",
       "    }\n",
       "\n",
       "    .dataframe thead th {\n",
       "        text-align: right;\n",
       "    }\n",
       "</style>\n",
       "<table border=\"1\" class=\"dataframe\">\n",
       "  <thead>\n",
       "    <tr style=\"text-align: right;\">\n",
       "      <th></th>\n",
       "      <th>STDNT_BACKGROUND</th>\n",
       "      <th>STDNT_LEFT</th>\n",
       "      <th>No of attrition</th>\n",
       "      <th>Total no. of students</th>\n",
       "      <th>Attrition Percentage</th>\n",
       "    </tr>\n",
       "  </thead>\n",
       "  <tbody>\n",
       "    <tr>\n",
       "      <th>5</th>\n",
       "      <td>BGD 6</td>\n",
       "      <td>1</td>\n",
       "      <td>14</td>\n",
       "      <td>94</td>\n",
       "      <td>15.0</td>\n",
       "    </tr>\n",
       "    <tr>\n",
       "      <th>2</th>\n",
       "      <td>BGD 3</td>\n",
       "      <td>1</td>\n",
       "      <td>170</td>\n",
       "      <td>947</td>\n",
       "      <td>18.0</td>\n",
       "    </tr>\n",
       "    <tr>\n",
       "      <th>3</th>\n",
       "      <td>BGD 4</td>\n",
       "      <td>1</td>\n",
       "      <td>26</td>\n",
       "      <td>139</td>\n",
       "      <td>19.0</td>\n",
       "    </tr>\n",
       "    <tr>\n",
       "      <th>7</th>\n",
       "      <td>BGD 8</td>\n",
       "      <td>1</td>\n",
       "      <td>1</td>\n",
       "      <td>5</td>\n",
       "      <td>20.0</td>\n",
       "    </tr>\n",
       "    <tr>\n",
       "      <th>0</th>\n",
       "      <td>BGD 1</td>\n",
       "      <td>1</td>\n",
       "      <td>477</td>\n",
       "      <td>2082</td>\n",
       "      <td>23.0</td>\n",
       "    </tr>\n",
       "    <tr>\n",
       "      <th>1</th>\n",
       "      <td>BGD 2</td>\n",
       "      <td>1</td>\n",
       "      <td>24</td>\n",
       "      <td>106</td>\n",
       "      <td>23.0</td>\n",
       "    </tr>\n",
       "    <tr>\n",
       "      <th>6</th>\n",
       "      <td>BGD 7</td>\n",
       "      <td>1</td>\n",
       "      <td>7</td>\n",
       "      <td>19</td>\n",
       "      <td>37.0</td>\n",
       "    </tr>\n",
       "    <tr>\n",
       "      <th>4</th>\n",
       "      <td>BGD 5</td>\n",
       "      <td>1</td>\n",
       "      <td>4</td>\n",
       "      <td>8</td>\n",
       "      <td>50.0</td>\n",
       "    </tr>\n",
       "  </tbody>\n",
       "</table>\n",
       "</div>"
      ],
      "text/plain": [
       "  STDNT_BACKGROUND  STDNT_LEFT  No of attrition  Total no. of students  \\\n",
       "5            BGD 6           1               14                     94   \n",
       "2            BGD 3           1              170                    947   \n",
       "3            BGD 4           1               26                    139   \n",
       "7            BGD 8           1                1                      5   \n",
       "0            BGD 1           1              477                   2082   \n",
       "1            BGD 2           1               24                    106   \n",
       "6            BGD 7           1                7                     19   \n",
       "4            BGD 5           1                4                      8   \n",
       "\n",
       "   Attrition Percentage  \n",
       "5                  15.0  \n",
       "2                  18.0  \n",
       "3                  19.0  \n",
       "7                  20.0  \n",
       "0                  23.0  \n",
       "1                  23.0  \n",
       "6                  37.0  \n",
       "4                  50.0  "
      ]
     },
     "execution_count": 21,
     "metadata": {},
     "output_type": "execute_result"
    }
   ],
   "source": [
    "BGD1=data.groupby(['STDNT_BACKGROUND','STDNT_LEFT'],as_index=False)['STUDENT IDENTIFIER'].agg('count')\n",
    "BGD2=data.groupby('STDNT_BACKGROUND',as_index=False)['STUDENT IDENTIFIER'].agg('count')\n",
    "BGD=pd.merge(BGD1,BGD2,how='outer',on='STDNT_BACKGROUND')\n",
    "BGD=BGD.query(\"STDNT_LEFT==1\")\n",
    "BGD['Attrition Percentage']=round((BGD['STUDENT IDENTIFIER_x']/BGD['STUDENT IDENTIFIER_y'])*100,0)\n",
    "BGD.rename(columns={\"STUDENT IDENTIFIER_x\":\"No of attrition\",\"STUDENT IDENTIFIER_y\":\"Total no. of students\"},inplace=True)\n",
    "ind=[]\n",
    "for i in range(0,8): ind=ind+[i] \n",
    "BGD.index=ind\n",
    "BGD.sort_values('Attrition Percentage')"
   ]
  },
  {
   "cell_type": "code",
   "execution_count": 22,
   "metadata": {},
   "outputs": [
    {
     "data": {
      "text/plain": [
       "Text(0, 0.5, 'Attrition Percentage of student')"
      ]
     },
     "execution_count": 22,
     "metadata": {},
     "output_type": "execute_result"
    },
    {
     "data": {
      "image/png": "[encoded data removed]",
      "text/plain": [
       "<Figure size 432x288 with 1 Axes>"
      ]
     },
     "metadata": {
      "needs_background": "light"
     },
     "output_type": "display_data"
    }
   ],
   "source": [
    "sns.boxplot(x=data[\"STDNT_BACKGROUND\"],y='STDNT_TEST_ENTRANCE_COMB',data=data,palette='summer')\n",
    "plt.xlabel('Student background')\n",
    "plt.ylabel('Attrition Percentage of student')"
   ]
  },
  {
   "cell_type": "code",
   "execution_count": 23,
   "metadata": {},
   "outputs": [
    {
     "data": {
      "text/html": [
       "<div>\n",
       "<style scoped>\n",
       "    .dataframe tbody tr th:only-of-type {\n",
       "        vertical-align: middle;\n",
       "    }\n",
       "\n",
       "    .dataframe tbody tr th {\n",
       "        vertical-align: top;\n",
       "    }\n",
       "\n",
       "    .dataframe thead th {\n",
       "        text-align: right;\n",
       "    }\n",
       "</style>\n",
       "<table border=\"1\" class=\"dataframe\">\n",
       "  <thead>\n",
       "    <tr style=\"text-align: right;\">\n",
       "      <th></th>\n",
       "      <th>INTERNATIONAL_STS</th>\n",
       "      <th>STDNT_LEFT</th>\n",
       "      <th>No of attrition</th>\n",
       "      <th>Total no. of students</th>\n",
       "      <th>Attrition Percentage</th>\n",
       "    </tr>\n",
       "  </thead>\n",
       "  <tbody>\n",
       "    <tr>\n",
       "      <th>0</th>\n",
       "      <td>N</td>\n",
       "      <td>1</td>\n",
       "      <td>711</td>\n",
       "      <td>3373</td>\n",
       "      <td>21.0</td>\n",
       "    </tr>\n",
       "    <tr>\n",
       "      <th>1</th>\n",
       "      <td>Y</td>\n",
       "      <td>1</td>\n",
       "      <td>12</td>\n",
       "      <td>27</td>\n",
       "      <td>44.0</td>\n",
       "    </tr>\n",
       "  </tbody>\n",
       "</table>\n",
       "</div>"
      ],
      "text/plain": [
       "  INTERNATIONAL_STS  STDNT_LEFT  No of attrition  Total no. of students  \\\n",
       "0                 N           1              711                   3373   \n",
       "1                 Y           1               12                     27   \n",
       "\n",
       "   Attrition Percentage  \n",
       "0                  21.0  \n",
       "1                  44.0  "
      ]
     },
     "execution_count": 23,
     "metadata": {},
     "output_type": "execute_result"
    }
   ],
   "source": [
    "INS1=data.groupby(['INTERNATIONAL_STS','STDNT_LEFT'],as_index=False)['STUDENT IDENTIFIER'].agg('count')\n",
    "INS2=data.groupby('INTERNATIONAL_STS',as_index=False)['STUDENT IDENTIFIER'].agg('count')\n",
    "INS=pd.merge(INS1,INS2,how='outer',on='INTERNATIONAL_STS')\n",
    "INS=INS.query(\"STDNT_LEFT==1\")\n",
    "INS['Attrition Percentage']=round((INS['STUDENT IDENTIFIER_x']/INS['STUDENT IDENTIFIER_y'])*100,0)\n",
    "INS.rename(columns={\"STUDENT IDENTIFIER_x\":\"No of attrition\",\"STUDENT IDENTIFIER_y\":\"Total no. of students\"},inplace=True)\n",
    "ind=[]\n",
    "for i in range(len(INS.index)): ind=ind+[i] \n",
    "INS.index=ind\n",
    "INS.sort_values('Attrition Percentage')"
   ]
  },
  {
   "cell_type": "code",
   "execution_count": 24,
   "metadata": {},
   "outputs": [
    {
     "data": {
      "image/png": "[encoded data removed]",
      "text/plain": [
       "<Figure size 864x504 with 1 Axes>"
      ]
     },
     "metadata": {
      "needs_background": "light"
     },
     "output_type": "display_data"
    }
   ],
   "source": [
    "h, axs = plt.subplots(figsize=(12,7))\n",
    "plt.bar(INS['INTERNATIONAL_STS'],INS['Attrition Percentage'],width=0.3,color='lightblue')\n",
    "plt.title('  Attrition percentage of International Students')\n",
    "plt.xlabel('International Status Of Student')\n",
    "plt.ylabel('Attrition Percentage')\n",
    "\n",
    "for x,y in zip(INS['INTERNATIONAL_STS'],INS['Attrition Percentage']):\n",
    "    label = \"{:.2f}\".format(y)\n",
    "    plt.annotate(label,(x,y),textcoords=\"offset points\",xytext=(0,10),ha='center')\n",
    "\n",
    "plt.tight_layout()\n",
    "plt.show()\n",
    "h.savefig(' Attrition of international students.jpeg')"
   ]
  },
  {
   "cell_type": "code",
   "execution_count": 25,
   "metadata": {},
   "outputs": [
    {
     "data": {
      "text/html": [
       "<div>\n",
       "<style scoped>\n",
       "    .dataframe tbody tr th:only-of-type {\n",
       "        vertical-align: middle;\n",
       "    }\n",
       "\n",
       "    .dataframe tbody tr th {\n",
       "        vertical-align: top;\n",
       "    }\n",
       "\n",
       "    .dataframe thead th {\n",
       "        text-align: right;\n",
       "    }\n",
       "</style>\n",
       "<table border=\"1\" class=\"dataframe\">\n",
       "  <thead>\n",
       "    <tr style=\"text-align: right;\">\n",
       "      <th></th>\n",
       "      <th>HOUSING_STS</th>\n",
       "      <th>STDNT_LEFT</th>\n",
       "      <th>No of attrition</th>\n",
       "      <th>Total no. of students</th>\n",
       "      <th>Attrition Percentage</th>\n",
       "    </tr>\n",
       "  </thead>\n",
       "  <tbody>\n",
       "    <tr>\n",
       "      <th>0</th>\n",
       "      <td>Off Campus</td>\n",
       "      <td>1</td>\n",
       "      <td>389</td>\n",
       "      <td>1981</td>\n",
       "      <td>20.0</td>\n",
       "    </tr>\n",
       "    <tr>\n",
       "      <th>1</th>\n",
       "      <td>On Campus</td>\n",
       "      <td>1</td>\n",
       "      <td>334</td>\n",
       "      <td>1419</td>\n",
       "      <td>24.0</td>\n",
       "    </tr>\n",
       "  </tbody>\n",
       "</table>\n",
       "</div>"
      ],
      "text/plain": [
       "  HOUSING_STS  STDNT_LEFT  No of attrition  Total no. of students  \\\n",
       "0  Off Campus           1              389                   1981   \n",
       "1   On Campus           1              334                   1419   \n",
       "\n",
       "   Attrition Percentage  \n",
       "0                  20.0  \n",
       "1                  24.0  "
      ]
     },
     "execution_count": 25,
     "metadata": {},
     "output_type": "execute_result"
    }
   ],
   "source": [
    "HS1=data.groupby(['HOUSING_STS','STDNT_LEFT'],as_index=False)['STUDENT IDENTIFIER'].agg('count')\n",
    "HS2=data.groupby('HOUSING_STS',as_index=False)['STUDENT IDENTIFIER'].agg('count')\n",
    "HS=pd.merge(HS1,HS2,how='outer',on='HOUSING_STS')\n",
    "HS=HS.query(\"STDNT_LEFT==1\")\n",
    "HS['Attrition Percentage']=round((HS['STUDENT IDENTIFIER_x']/HS['STUDENT IDENTIFIER_y'])*100,0)\n",
    "HS.rename(columns={\"STUDENT IDENTIFIER_x\":\"No of attrition\",\"STUDENT IDENTIFIER_y\":\"Total no. of students\"},inplace=True)\n",
    "ind=[]\n",
    "for i in range(len(HS.index)): ind=ind+[i] \n",
    "HS.index=ind\n",
    "HS.sort_values('Attrition Percentage')"
   ]
  },
  {
   "cell_type": "code",
   "execution_count": 26,
   "metadata": {},
   "outputs": [
    {
     "data": {
      "text/plain": [
       "Text(0, 0.5, 'Attrition Percentage')"
      ]
     },
     "execution_count": 26,
     "metadata": {},
     "output_type": "execute_result"
    },
    {
     "data": {
      "image/png": "[encoded data removed]",
      "text/plain": [
       "<Figure size 432x288 with 1 Axes>"
      ]
     },
     "metadata": {
      "needs_background": "light"
     },
     "output_type": "display_data"
    }
   ],
   "source": [
    "sns.countplot(x = 'HOUSING_STS', data = data)\n",
    "plt.xlabel('Housing Status')\n",
    "plt.ylabel('Attrition Percentage')"
   ]
  },
  {
   "cell_type": "code",
   "execution_count": 27,
   "metadata": {},
   "outputs": [
    {
     "data": {
      "text/html": [
       "<div>\n",
       "<style scoped>\n",
       "    .dataframe tbody tr th:only-of-type {\n",
       "        vertical-align: middle;\n",
       "    }\n",
       "\n",
       "    .dataframe tbody tr th {\n",
       "        vertical-align: top;\n",
       "    }\n",
       "\n",
       "    .dataframe thead th {\n",
       "        text-align: right;\n",
       "    }\n",
       "</style>\n",
       "<table border=\"1\" class=\"dataframe\">\n",
       "  <thead>\n",
       "    <tr style=\"text-align: right;\">\n",
       "      <th></th>\n",
       "      <th></th>\n",
       "      <th>STDNT_LEFT</th>\n",
       "      <th>0</th>\n",
       "      <th>1</th>\n",
       "    </tr>\n",
       "    <tr>\n",
       "      <th>INTERNATIONAL_STS</th>\n",
       "      <th>IN_STATE_FLAG</th>\n",
       "      <th>HOUSING_STS</th>\n",
       "      <th></th>\n",
       "      <th></th>\n",
       "    </tr>\n",
       "  </thead>\n",
       "  <tbody>\n",
       "    <tr>\n",
       "      <th rowspan=\"4\" valign=\"top\">N</th>\n",
       "      <th rowspan=\"2\" valign=\"top\">N</th>\n",
       "      <th>Off Campus</th>\n",
       "      <td>180</td>\n",
       "      <td>46</td>\n",
       "    </tr>\n",
       "    <tr>\n",
       "      <th>On Campus</th>\n",
       "      <td>53</td>\n",
       "      <td>31</td>\n",
       "    </tr>\n",
       "    <tr>\n",
       "      <th rowspan=\"2\" valign=\"top\">Y</th>\n",
       "      <th>Off Campus</th>\n",
       "      <td>1406</td>\n",
       "      <td>338</td>\n",
       "    </tr>\n",
       "    <tr>\n",
       "      <th>On Campus</th>\n",
       "      <td>1023</td>\n",
       "      <td>296</td>\n",
       "    </tr>\n",
       "    <tr>\n",
       "      <th rowspan=\"2\" valign=\"top\">Y</th>\n",
       "      <th rowspan=\"2\" valign=\"top\">N</th>\n",
       "      <th>Off Campus</th>\n",
       "      <td>6</td>\n",
       "      <td>5</td>\n",
       "    </tr>\n",
       "    <tr>\n",
       "      <th>On Campus</th>\n",
       "      <td>9</td>\n",
       "      <td>7</td>\n",
       "    </tr>\n",
       "  </tbody>\n",
       "</table>\n",
       "</div>"
      ],
      "text/plain": [
       "STDNT_LEFT                                      0    1\n",
       "INTERNATIONAL_STS IN_STATE_FLAG HOUSING_STS           \n",
       "N                 N             Off Campus    180   46\n",
       "                                On Campus      53   31\n",
       "                  Y             Off Campus   1406  338\n",
       "                                On Campus    1023  296\n",
       "Y                 N             Off Campus      6    5\n",
       "                                On Campus       9    7"
      ]
     },
     "execution_count": 27,
     "metadata": {},
     "output_type": "execute_result"
    }
   ],
   "source": [
    "tab2=pd.crosstab([data.INTERNATIONAL_STS,data.IN_STATE_FLAG,data.HOUSING_STS],data.STDNT_LEFT)\n",
    "tab2=DataFrame(tab2)\n",
    "tab2"
   ]
  },
  {
   "cell_type": "code",
   "execution_count": 28,
   "metadata": {},
   "outputs": [
    {
     "data": {
      "image/png": "[encoded data removed]",
      "text/plain": [
       "<Figure size 432x288 with 1 Axes>"
      ]
     },
     "metadata": {
      "needs_background": "light"
     },
     "output_type": "display_data"
    }
   ],
   "source": [
    "tab2.plot(kind='line')\n",
    "plt.title('Student residence')\n",
    "plt.ylabel('No. of Stdnts')\n",
    "plt.tight_layout()"
   ]
  },
  {
   "cell_type": "code",
   "execution_count": 30,
   "metadata": {},
   "outputs": [
    {
     "data": {
      "text/plain": [
       "69.0      1402\n",
       "0.0        671\n",
       "150.0      497\n",
       "90.0       248\n",
       "138.0      227\n",
       "          ... \n",
       "316.0        1\n",
       "151.0        1\n",
       "403.0        1\n",
       "572.0        1\n",
       "1078.0       1\n",
       "Name: DISTANCE_FROM_HOME, Length: 71, dtype: int64"
      ]
     },
     "execution_count": 30,
     "metadata": {},
     "output_type": "execute_result"
    }
   ],
   "source": [
    "data['DISTANCE_FROM_HOME'].value_counts()"
   ]
  },
  {
   "cell_type": "code",
   "execution_count": 31,
   "metadata": {},
   "outputs": [
    {
     "data": {
      "text/plain": [
       "150.0"
      ]
     },
     "execution_count": 31,
     "metadata": {},
     "output_type": "execute_result"
    }
   ],
   "source": [
    "data.DISTANCE_FROM_HOME.quantile(0.90)"
   ]
  },
  {
   "cell_type": "code",
   "execution_count": 32,
   "metadata": {},
   "outputs": [],
   "source": [
    "data=data.drop('DISTANCE_FROM_HOME',axis=1)"
   ]
  },
  {
   "cell_type": "code",
   "execution_count": 33,
   "metadata": {},
   "outputs": [
    {
     "data": {
      "text/plain": [
       "Index(['Undeclared', 'Biology', 'Early Childhood Education', 'Pre-Nursing',\n",
       "       'Nursing', 'Psychology', 'Pre-Business', 'Theatre Arts',\n",
       "       'Music Performance', 'Criminal Justice', 'Music Education',\n",
       "       'General Business', 'Exercise Science', 'Art', 'Management',\n",
       "       'Communication', 'Political Science', 'Chemistry',\n",
       "       'Engineering Studies', 'English Language/Literature', 'Marketing',\n",
       "       'Computer Science - Systems', 'Accounting', 'Health Science',\n",
       "       'Computer Science - Games', 'Joint Enrollment - Accel', 'History',\n",
       "       'Applied Computer Science', 'Theatre Education',\n",
       "       'English and Secondary Ed', 'Pre-Engineering/RETP',\n",
       "       'History and Secondary Ed', 'Mathematics', 'Finance',\n",
       "       'Management Information Systems', 'Health and Physical Education',\n",
       "       'Sociology', 'Middle Grades Education', 'Music',\n",
       "       'Spec Ed: Gen. Curr. - Reading', 'General Studies/AS',\n",
       "       'Mathematics and Secondary Ed', 'Information Technology',\n",
       "       'Art Education', 'Spanish', 'Biology and Secondary Ed', 'Geology',\n",
       "       'French with Teacher Cert', 'Spanish with Teacher Cert', 'French',\n",
       "       'Early Admission - Accel', 'Earth and Space Science',\n",
       "       'Chemistry and Secondary Ed', 'Liberal Arts'],\n",
       "      dtype='object')"
      ]
     },
     "execution_count": 33,
     "metadata": {},
     "output_type": "execute_result"
    }
   ],
   "source": [
    "data['STDNT_MAJOR'].value_counts().sort_values(ascending=False).index"
   ]
  },
  {
   "cell_type": "code",
   "execution_count": 34,
   "metadata": {},
   "outputs": [],
   "source": [
    "list=['General Business', 'Exercise Science', 'Art', 'Management',\n",
    "        'Communication', 'Chemistry', 'Political Science',\n",
    "        'Engineering Studies', 'English Language/Literature', 'Marketing',\n",
    "        'Computer Science - Systems', 'Accounting', 'Health Science',\n",
    "        'Computer Science - Games', 'Joint Enrollment - Accel', 'History',\n",
    "        'Applied Computer Science', 'Theatre Education',\n",
    "        'English and Secondary Ed', 'History and Secondary Ed',\n",
    "        'Pre-Engineering/RETP', 'Mathematics', 'Finance',\n",
    "        'Management Information Systems', 'Sociology',\n",
    "        'Health and Physical Education', 'Middle Grades Education', 'Music',\n",
    "        'Spec Ed: Gen. Curr. - Reading', 'General Studies/AS',\n",
    "        'Mathematics and Secondary Ed', 'Information Technology',\n",
    "        'Art Education', 'Spanish', 'Biology and Secondary Ed',\n",
    "        'French with Teacher Cert', 'Geology', 'Spanish with Teacher Cert',\n",
    "        'French', 'Early Admission - Accel', 'Earth and Space Science',\n",
    "        'Chemistry and Secondary Ed', 'Liberal Arts','Undeclared']\n",
    "data['STDNT_MAJOR'].replace(list,'Others',inplace=True)"
   ]
  },
  {
   "cell_type": "code",
   "execution_count": 35,
   "metadata": {},
   "outputs": [
    {
     "data": {
      "text/plain": [
       "array(['Others', 'Biology', 'Criminal Justice', 'Psychology',\n",
       "       'Theatre Arts', 'Nursing', 'Pre-Nursing',\n",
       "       'Early Childhood Education', 'Music Performance', 'Pre-Business',\n",
       "       'Music Education'], dtype=object)"
      ]
     },
     "execution_count": 35,
     "metadata": {},
     "output_type": "execute_result"
    }
   ],
   "source": [
    "data['STDNT_MAJOR'].unique()"
   ]
  },
  {
   "cell_type": "code",
   "execution_count": 36,
   "metadata": {},
   "outputs": [
    {
     "data": {
      "text/html": [
       "<div>\n",
       "<style scoped>\n",
       "    .dataframe tbody tr th:only-of-type {\n",
       "        vertical-align: middle;\n",
       "    }\n",
       "\n",
       "    .dataframe tbody tr th {\n",
       "        vertical-align: top;\n",
       "    }\n",
       "\n",
       "    .dataframe thead th {\n",
       "        text-align: right;\n",
       "    }\n",
       "</style>\n",
       "<table border=\"1\" class=\"dataframe\">\n",
       "  <thead>\n",
       "    <tr style=\"text-align: right;\">\n",
       "      <th></th>\n",
       "      <th>STDNT_MAJOR</th>\n",
       "      <th>STDNT_LEFT</th>\n",
       "      <th>No of attrition</th>\n",
       "      <th>Total no. of students</th>\n",
       "      <th>Attrition Percentage</th>\n",
       "    </tr>\n",
       "  </thead>\n",
       "  <tbody>\n",
       "    <tr>\n",
       "      <th>3</th>\n",
       "      <td>Music Education</td>\n",
       "      <td>1</td>\n",
       "      <td>8</td>\n",
       "      <td>96</td>\n",
       "      <td>8.0</td>\n",
       "    </tr>\n",
       "    <tr>\n",
       "      <th>10</th>\n",
       "      <td>Theatre Arts</td>\n",
       "      <td>1</td>\n",
       "      <td>12</td>\n",
       "      <td>131</td>\n",
       "      <td>9.0</td>\n",
       "    </tr>\n",
       "    <tr>\n",
       "      <th>4</th>\n",
       "      <td>Music Performance</td>\n",
       "      <td>1</td>\n",
       "      <td>12</td>\n",
       "      <td>99</td>\n",
       "      <td>12.0</td>\n",
       "    </tr>\n",
       "    <tr>\n",
       "      <th>2</th>\n",
       "      <td>Early Childhood Education</td>\n",
       "      <td>1</td>\n",
       "      <td>37</td>\n",
       "      <td>190</td>\n",
       "      <td>19.0</td>\n",
       "    </tr>\n",
       "    <tr>\n",
       "      <th>6</th>\n",
       "      <td>Others</td>\n",
       "      <td>1</td>\n",
       "      <td>384</td>\n",
       "      <td>1795</td>\n",
       "      <td>21.0</td>\n",
       "    </tr>\n",
       "    <tr>\n",
       "      <th>0</th>\n",
       "      <td>Biology</td>\n",
       "      <td>1</td>\n",
       "      <td>82</td>\n",
       "      <td>362</td>\n",
       "      <td>23.0</td>\n",
       "    </tr>\n",
       "    <tr>\n",
       "      <th>5</th>\n",
       "      <td>Nursing</td>\n",
       "      <td>1</td>\n",
       "      <td>37</td>\n",
       "      <td>164</td>\n",
       "      <td>23.0</td>\n",
       "    </tr>\n",
       "    <tr>\n",
       "      <th>7</th>\n",
       "      <td>Pre-Business</td>\n",
       "      <td>1</td>\n",
       "      <td>32</td>\n",
       "      <td>133</td>\n",
       "      <td>24.0</td>\n",
       "    </tr>\n",
       "    <tr>\n",
       "      <th>8</th>\n",
       "      <td>Pre-Nursing</td>\n",
       "      <td>1</td>\n",
       "      <td>47</td>\n",
       "      <td>177</td>\n",
       "      <td>27.0</td>\n",
       "    </tr>\n",
       "    <tr>\n",
       "      <th>9</th>\n",
       "      <td>Psychology</td>\n",
       "      <td>1</td>\n",
       "      <td>43</td>\n",
       "      <td>155</td>\n",
       "      <td>28.0</td>\n",
       "    </tr>\n",
       "    <tr>\n",
       "      <th>1</th>\n",
       "      <td>Criminal Justice</td>\n",
       "      <td>1</td>\n",
       "      <td>29</td>\n",
       "      <td>98</td>\n",
       "      <td>30.0</td>\n",
       "    </tr>\n",
       "  </tbody>\n",
       "</table>\n",
       "</div>"
      ],
      "text/plain": [
       "                  STDNT_MAJOR  STDNT_LEFT  No of attrition  \\\n",
       "3             Music Education           1                8   \n",
       "10               Theatre Arts           1               12   \n",
       "4           Music Performance           1               12   \n",
       "2   Early Childhood Education           1               37   \n",
       "6                      Others           1              384   \n",
       "0                     Biology           1               82   \n",
       "5                     Nursing           1               37   \n",
       "7                Pre-Business           1               32   \n",
       "8                 Pre-Nursing           1               47   \n",
       "9                  Psychology           1               43   \n",
       "1            Criminal Justice           1               29   \n",
       "\n",
       "    Total no. of students  Attrition Percentage  \n",
       "3                      96                   8.0  \n",
       "10                    131                   9.0  \n",
       "4                      99                  12.0  \n",
       "2                     190                  19.0  \n",
       "6                    1795                  21.0  \n",
       "0                     362                  23.0  \n",
       "5                     164                  23.0  \n",
       "7                     133                  24.0  \n",
       "8                     177                  27.0  \n",
       "9                     155                  28.0  \n",
       "1                      98                  30.0  "
      ]
     },
     "execution_count": 36,
     "metadata": {},
     "output_type": "execute_result"
    }
   ],
   "source": [
    "MJR1=data.groupby(['STDNT_MAJOR','STDNT_LEFT'],as_index=False)['STUDENT IDENTIFIER'].agg('count')\n",
    "MJR2=data.groupby('STDNT_MAJOR',as_index=False)['STUDENT IDENTIFIER'].agg('count')\n",
    "MJR=pd.merge(MJR1,MJR2,how='outer',on='STDNT_MAJOR')\n",
    "MJR=MJR.query(\"STDNT_LEFT==1\")\n",
    "MJR['Attrition Percentage']=round((MJR['STUDENT IDENTIFIER_x']/MJR['STUDENT IDENTIFIER_y'])*100,0)\n",
    "MJR.rename(columns={\"STUDENT IDENTIFIER_x\":\"No of attrition\",\"STUDENT IDENTIFIER_y\":\"Total no. of students\"},inplace=True)\n",
    "ind=[]\n",
    "for i in range(len(MJR.index)): ind=ind+[i] \n",
    "MJR.index=ind\n",
    "MJR.sort_values('Attrition Percentage')"
   ]
  },
  {
   "cell_type": "code",
   "execution_count": 37,
   "metadata": {},
   "outputs": [
    {
     "data": {
      "image/png": "[encoded data removed]",
      "text/plain": [
       "<Figure size 1008x720 with 1 Axes>"
      ]
     },
     "metadata": {
      "needs_background": "light"
     },
     "output_type": "display_data"
    }
   ],
   "source": [
    "h, axs = plt.subplots(figsize=(14,10))\n",
    "\n",
    "\n",
    "\n",
    "plt.bar(MJR['STDNT_MAJOR'],MJR['Attrition Percentage'],color='red')\n",
    "plt.title('  Attrition percentage of Student Major')\n",
    "plt.xlabel('Student Major')\n",
    "plt.ylabel('Attrition Percentage')\n",
    "plt.xticks(rotation=90)\n",
    "\n",
    "for x,y in zip(MJR['STDNT_MAJOR'],MJR['Attrition Percentage']):\n",
    "    label = \"{:.2f}\".format(y)\n",
    "    plt.annotate(label,(x,y),textcoords=\"offset points\",xytext=(0,10),ha='center')\n",
    "\n",
    "\n",
    "plt.tight_layout()\n",
    "plt.show()\n",
    "h.savefig(' Attrition ofstudent major.jpeg')"
   ]
  },
  {
   "cell_type": "code",
   "execution_count": 38,
   "metadata": {},
   "outputs": [
    {
     "data": {
      "text/plain": [
       "N                                3160\n",
       "Spanish                            26\n",
       "Music                              19\n",
       "Psychology                         19\n",
       "Foundations of Business            15\n",
       "Communication                      14\n",
       "History                            13\n",
       "Criminal Justice                   12\n",
       "Theatre Arts                       12\n",
       "Computer Science - Systems         10\n",
       "Early Childhood Education           9\n",
       "Mathematics                         7\n",
       "Professional Writing                6\n",
       "Marketing                           6\n",
       "Art History                         6\n",
       "English Language/Literature         5\n",
       "Art                                 5\n",
       "Sociology                           5\n",
       "Biology                             4\n",
       "Chemistry                           4\n",
       "Political Science                   4\n",
       "Accounting                          4\n",
       "French                              4\n",
       "Health Science                      3\n",
       "International Business              3\n",
       "Computer Info. Management           3\n",
       "Economics                           3\n",
       "Exercise Science                    3\n",
       "Creative Writing                    2\n",
       "Philosophy                          2\n",
       "Management                          2\n",
       "African Studies                     2\n",
       "Asian Studies                       2\n",
       "Anthropology                        2\n",
       "Military Sci & Adv Leadership       2\n",
       "Finance                             1\n",
       "Women's Studies                     1\n",
       "Name: STDNT_MINOR, dtype: int64"
      ]
     },
     "execution_count": 38,
     "metadata": {},
     "output_type": "execute_result"
    }
   ],
   "source": [
    "data['STDNT_MINOR'].value_counts().sort_values(ascending=False)"
   ]
  },
  {
   "cell_type": "code",
   "execution_count": 39,
   "metadata": {},
   "outputs": [],
   "source": [
    "data=data.drop('STDNT_MINOR',axis=1)"
   ]
  },
  {
   "cell_type": "code",
   "execution_count": 40,
   "metadata": {},
   "outputs": [
    {
     "data": {
      "text/plain": [
       "518"
      ]
     },
     "execution_count": 40,
     "metadata": {},
     "output_type": "execute_result"
    }
   ],
   "source": [
    "data['STDNT_TEST_ENTRANCE_COMB'].isnull().sum()"
   ]
  },
  {
   "cell_type": "code",
   "execution_count": 41,
   "metadata": {},
   "outputs": [
    {
     "data": {
      "text/plain": [
       "count    2882.000000\n",
       "mean      997.758501\n",
       "std       156.268221\n",
       "min       530.000000\n",
       "25%       910.000000\n",
       "50%       990.000000\n",
       "75%      1110.000000\n",
       "max      1510.000000\n",
       "Name: STDNT_TEST_ENTRANCE_COMB, dtype: float64"
      ]
     },
     "execution_count": 41,
     "metadata": {},
     "output_type": "execute_result"
    }
   ],
   "source": [
    "data['STDNT_TEST_ENTRANCE_COMB'].describe()"
   ]
  },
  {
   "cell_type": "code",
   "execution_count": 42,
   "metadata": {},
   "outputs": [],
   "source": [
    "data['STDNT_TEST_ENTRANCE_COMB']=data['STDNT_TEST_ENTRANCE_COMB'].fillna(990.0)"
   ]
  },
  {
   "cell_type": "code",
   "execution_count": 43,
   "metadata": {},
   "outputs": [
    {
     "data": {
      "text/plain": [
       "count    3400.000000\n",
       "mean      996.576471\n",
       "std       143.895853\n",
       "min       530.000000\n",
       "25%       910.000000\n",
       "50%       990.000000\n",
       "75%      1070.000000\n",
       "max      1510.000000\n",
       "Name: STDNT_TEST_ENTRANCE_COMB, dtype: float64"
      ]
     },
     "execution_count": 43,
     "metadata": {},
     "output_type": "execute_result"
    }
   ],
   "source": [
    "data['STDNT_TEST_ENTRANCE_COMB'].describe()"
   ]
  },
  {
   "cell_type": "code",
   "execution_count": 44,
   "metadata": {},
   "outputs": [
    {
     "data": {
      "text/plain": [
       "array([1150., 1190., 1030., 1220., 1070.,  590.,  740.,  990., 1260.,\n",
       "       1110.,  910., 1300.,  640.,  530., 1340., 1380.,  950.,  690.,\n",
       "        870.,  790., 1420.,  830., 1510., 1460.])"
      ]
     },
     "execution_count": 44,
     "metadata": {},
     "output_type": "execute_result"
    }
   ],
   "source": [
    "data['STDNT_TEST_ENTRANCE_COMB'].unique()"
   ]
  },
  {
   "cell_type": "code",
   "execution_count": 45,
   "metadata": {},
   "outputs": [
    {
     "data": {
      "text/html": [
       "<div>\n",
       "<style scoped>\n",
       "    .dataframe tbody tr th:only-of-type {\n",
       "        vertical-align: middle;\n",
       "    }\n",
       "\n",
       "    .dataframe tbody tr th {\n",
       "        vertical-align: top;\n",
       "    }\n",
       "\n",
       "    .dataframe thead th {\n",
       "        text-align: right;\n",
       "    }\n",
       "</style>\n",
       "<table border=\"1\" class=\"dataframe\">\n",
       "  <thead>\n",
       "    <tr style=\"text-align: right;\">\n",
       "      <th></th>\n",
       "      <th>STDNT_TEST_ENTRANCE_COMB</th>\n",
       "      <th>STDNT_LEFT</th>\n",
       "      <th>No of attrition</th>\n",
       "      <th>Total no. of students</th>\n",
       "      <th>Attrition Percentage</th>\n",
       "    </tr>\n",
       "  </thead>\n",
       "  <tbody>\n",
       "    <tr>\n",
       "      <th>4</th>\n",
       "      <td>740.0</td>\n",
       "      <td>1</td>\n",
       "      <td>2</td>\n",
       "      <td>25</td>\n",
       "      <td>8.0</td>\n",
       "    </tr>\n",
       "    <tr>\n",
       "      <th>5</th>\n",
       "      <td>790.0</td>\n",
       "      <td>1</td>\n",
       "      <td>5</td>\n",
       "      <td>48</td>\n",
       "      <td>10.0</td>\n",
       "    </tr>\n",
       "    <tr>\n",
       "      <th>1</th>\n",
       "      <td>590.0</td>\n",
       "      <td>1</td>\n",
       "      <td>6</td>\n",
       "      <td>48</td>\n",
       "      <td>12.0</td>\n",
       "    </tr>\n",
       "    <tr>\n",
       "      <th>19</th>\n",
       "      <td>1340.0</td>\n",
       "      <td>1</td>\n",
       "      <td>3</td>\n",
       "      <td>22</td>\n",
       "      <td>14.0</td>\n",
       "    </tr>\n",
       "    <tr>\n",
       "      <th>17</th>\n",
       "      <td>1260.0</td>\n",
       "      <td>1</td>\n",
       "      <td>10</td>\n",
       "      <td>68</td>\n",
       "      <td>15.0</td>\n",
       "    </tr>\n",
       "    <tr>\n",
       "      <th>2</th>\n",
       "      <td>640.0</td>\n",
       "      <td>1</td>\n",
       "      <td>4</td>\n",
       "      <td>23</td>\n",
       "      <td>17.0</td>\n",
       "    </tr>\n",
       "    <tr>\n",
       "      <th>18</th>\n",
       "      <td>1300.0</td>\n",
       "      <td>1</td>\n",
       "      <td>6</td>\n",
       "      <td>35</td>\n",
       "      <td>17.0</td>\n",
       "    </tr>\n",
       "    <tr>\n",
       "      <th>16</th>\n",
       "      <td>1220.0</td>\n",
       "      <td>1</td>\n",
       "      <td>18</td>\n",
       "      <td>107</td>\n",
       "      <td>17.0</td>\n",
       "    </tr>\n",
       "    <tr>\n",
       "      <th>0</th>\n",
       "      <td>530.0</td>\n",
       "      <td>1</td>\n",
       "      <td>9</td>\n",
       "      <td>51</td>\n",
       "      <td>18.0</td>\n",
       "    </tr>\n",
       "    <tr>\n",
       "      <th>12</th>\n",
       "      <td>1070.0</td>\n",
       "      <td>1</td>\n",
       "      <td>46</td>\n",
       "      <td>234</td>\n",
       "      <td>20.0</td>\n",
       "    </tr>\n",
       "    <tr>\n",
       "      <th>8</th>\n",
       "      <td>910.0</td>\n",
       "      <td>1</td>\n",
       "      <td>65</td>\n",
       "      <td>309</td>\n",
       "      <td>21.0</td>\n",
       "    </tr>\n",
       "    <tr>\n",
       "      <th>15</th>\n",
       "      <td>1190.0</td>\n",
       "      <td>1</td>\n",
       "      <td>29</td>\n",
       "      <td>139</td>\n",
       "      <td>21.0</td>\n",
       "    </tr>\n",
       "    <tr>\n",
       "      <th>13</th>\n",
       "      <td>1110.0</td>\n",
       "      <td>1</td>\n",
       "      <td>46</td>\n",
       "      <td>212</td>\n",
       "      <td>22.0</td>\n",
       "    </tr>\n",
       "    <tr>\n",
       "      <th>10</th>\n",
       "      <td>990.0</td>\n",
       "      <td>1</td>\n",
       "      <td>191</td>\n",
       "      <td>870</td>\n",
       "      <td>22.0</td>\n",
       "    </tr>\n",
       "    <tr>\n",
       "      <th>6</th>\n",
       "      <td>830.0</td>\n",
       "      <td>1</td>\n",
       "      <td>28</td>\n",
       "      <td>128</td>\n",
       "      <td>22.0</td>\n",
       "    </tr>\n",
       "    <tr>\n",
       "      <th>9</th>\n",
       "      <td>950.0</td>\n",
       "      <td>1</td>\n",
       "      <td>86</td>\n",
       "      <td>382</td>\n",
       "      <td>23.0</td>\n",
       "    </tr>\n",
       "    <tr>\n",
       "      <th>7</th>\n",
       "      <td>870.0</td>\n",
       "      <td>1</td>\n",
       "      <td>55</td>\n",
       "      <td>238</td>\n",
       "      <td>23.0</td>\n",
       "    </tr>\n",
       "    <tr>\n",
       "      <th>14</th>\n",
       "      <td>1150.0</td>\n",
       "      <td>1</td>\n",
       "      <td>40</td>\n",
       "      <td>159</td>\n",
       "      <td>25.0</td>\n",
       "    </tr>\n",
       "    <tr>\n",
       "      <th>11</th>\n",
       "      <td>1030.0</td>\n",
       "      <td>1</td>\n",
       "      <td>66</td>\n",
       "      <td>268</td>\n",
       "      <td>25.0</td>\n",
       "    </tr>\n",
       "    <tr>\n",
       "      <th>20</th>\n",
       "      <td>1380.0</td>\n",
       "      <td>1</td>\n",
       "      <td>5</td>\n",
       "      <td>17</td>\n",
       "      <td>29.0</td>\n",
       "    </tr>\n",
       "    <tr>\n",
       "      <th>3</th>\n",
       "      <td>690.0</td>\n",
       "      <td>1</td>\n",
       "      <td>3</td>\n",
       "      <td>8</td>\n",
       "      <td>38.0</td>\n",
       "    </tr>\n",
       "  </tbody>\n",
       "</table>\n",
       "</div>"
      ],
      "text/plain": [
       "    STDNT_TEST_ENTRANCE_COMB  STDNT_LEFT  No of attrition  \\\n",
       "4                      740.0           1                2   \n",
       "5                      790.0           1                5   \n",
       "1                      590.0           1                6   \n",
       "19                    1340.0           1                3   \n",
       "17                    1260.0           1               10   \n",
       "2                      640.0           1                4   \n",
       "18                    1300.0           1                6   \n",
       "16                    1220.0           1               18   \n",
       "0                      530.0           1                9   \n",
       "12                    1070.0           1               46   \n",
       "8                      910.0           1               65   \n",
       "15                    1190.0           1               29   \n",
       "13                    1110.0           1               46   \n",
       "10                     990.0           1              191   \n",
       "6                      830.0           1               28   \n",
       "9                      950.0           1               86   \n",
       "7                      870.0           1               55   \n",
       "14                    1150.0           1               40   \n",
       "11                    1030.0           1               66   \n",
       "20                    1380.0           1                5   \n",
       "3                      690.0           1                3   \n",
       "\n",
       "    Total no. of students  Attrition Percentage  \n",
       "4                      25                   8.0  \n",
       "5                      48                  10.0  \n",
       "1                      48                  12.0  \n",
       "19                     22                  14.0  \n",
       "17                     68                  15.0  \n",
       "2                      23                  17.0  \n",
       "18                     35                  17.0  \n",
       "16                    107                  17.0  \n",
       "0                      51                  18.0  \n",
       "12                    234                  20.0  \n",
       "8                     309                  21.0  \n",
       "15                    139                  21.0  \n",
       "13                    212                  22.0  \n",
       "10                    870                  22.0  \n",
       "6                     128                  22.0  \n",
       "9                     382                  23.0  \n",
       "7                     238                  23.0  \n",
       "14                    159                  25.0  \n",
       "11                    268                  25.0  \n",
       "20                     17                  29.0  \n",
       "3                       8                  38.0  "
      ]
     },
     "execution_count": 45,
     "metadata": {},
     "output_type": "execute_result"
    }
   ],
   "source": [
    "ETC1=data.groupby(['STDNT_TEST_ENTRANCE_COMB','STDNT_LEFT'],as_index=False)['STUDENT IDENTIFIER'].agg('count')\n",
    "ETC2=data.groupby('STDNT_TEST_ENTRANCE_COMB',as_index=False)['STUDENT IDENTIFIER'].agg('count')\n",
    "ETC=pd.merge(ETC1,ETC2,how='outer',on='STDNT_TEST_ENTRANCE_COMB')\n",
    "ETC=ETC.query(\"STDNT_LEFT==1\")\n",
    "ETC['Attrition Percentage']=round((ETC['STUDENT IDENTIFIER_x']/ETC['STUDENT IDENTIFIER_y'])*100,0)\n",
    "ETC.rename(columns={\"STUDENT IDENTIFIER_x\":\"No of attrition\",\"STUDENT IDENTIFIER_y\":\"Total no. of students\"},inplace=True)\n",
    "ind=[]\n",
    "for i in range(len(ETC.index)): ind=ind+[i] \n",
    "ETC.index=ind\n",
    "ETC.sort_values('Attrition Percentage')"
   ]
  },
  {
   "cell_type": "code",
   "execution_count": 46,
   "metadata": {},
   "outputs": [
    {
     "data": {
      "image/png": "[encoded data removed]",
      "text/plain": [
       "<Figure size 1008x576 with 1 Axes>"
      ]
     },
     "metadata": {
      "needs_background": "light"
     },
     "output_type": "display_data"
    }
   ],
   "source": [
    "\n",
    "f, axs = plt.subplots(figsize=(14,8))\n",
    "\n",
    "\n",
    "plt.bar(ETC['STDNT_TEST_ENTRANCE_COMB'],ETC['Attrition Percentage'],width=2,color='blue')\n",
    "plt.title(' Attrition percentage of Entrance Score')\n",
    "plt.xlabel('Entrance Score')\n",
    "plt.ylabel('Attrition Percentage')\n",
    "plt.xticks(range(650,1310,20),rotation=90)\n",
    "\n",
    "for x,y in zip(ETC['STDNT_TEST_ENTRANCE_COMB'],ETC['Attrition Percentage']):\n",
    "    label = \"{:.2f}\".format(y)\n",
    "    plt.annotate(label,(x,y),textcoords=\"offset points\",xytext=(0,10),ha='center')\n",
    "\n",
    "plt.tight_layout()\n",
    "plt.show()\n",
    "f.savefig(' Attrition of enterance score.jpeg')"
   ]
  },
  {
   "cell_type": "code",
   "execution_count": 47,
   "metadata": {},
   "outputs": [
    {
     "data": {
      "text/plain": [
       "Text(0, 0.5, 'No. of Stdnts')"
      ]
     },
     "execution_count": 47,
     "metadata": {},
     "output_type": "execute_result"
    },
    {
     "data": {
      "image/png": "[encoded data removed]",
      "text/plain": [
       "<Figure size 432x288 with 1 Axes>"
      ]
     },
     "metadata": {
      "needs_background": "light"
     },
     "output_type": "display_data"
    }
   ],
   "source": [
    "data.STDNT_TEST_ENTRANCE_COMB.plot(kind = 'hist')\n",
    "plt.title('Distribution of Entrance score')\n",
    "plt.xlabel('Entrance Score')\n",
    "plt.ylabel('No. of Stdnts')"
   ]
  },
  {
   "cell_type": "code",
   "execution_count": 48,
   "metadata": {},
   "outputs": [],
   "source": [
    "data=data.drop(['FIRST_TERM', 'CORE_COURSE_NAME_1_F',\n",
    "       'CORE_COURSE_GRADE_1_F', 'CORE_COURSE_NAME_2_F',\n",
    "       'CORE_COURSE_GRADE_2_F', 'CORE_COURSE_NAME_3_F',\n",
    "       'CORE_COURSE_GRADE_3_F', 'SECOND_TERM', 'CORE_COURSE_NAME_1_S',\n",
    "       'CORE_COURSE_GRADE_1_S', 'CORE_COURSE_NAME_2_S',\n",
    "       'CORE_COURSE_GRADE_2_S'],axis=1)"
   ]
  },
  {
   "cell_type": "code",
   "execution_count": 49,
   "metadata": {},
   "outputs": [
    {
     "data": {
      "text/plain": [
       "count    3347.000000\n",
       "mean        3.202738\n",
       "std         0.455337\n",
       "min         0.000000\n",
       "25%         2.870000\n",
       "50%         3.200000\n",
       "75%         3.560000\n",
       "max         4.000000\n",
       "Name: HIGH_SCHL_GPA, dtype: float64"
      ]
     },
     "execution_count": 49,
     "metadata": {},
     "output_type": "execute_result"
    }
   ],
   "source": [
    "data.HIGH_SCHL_GPA.describe()"
   ]
  },
  {
   "cell_type": "code",
   "execution_count": 50,
   "metadata": {},
   "outputs": [],
   "source": [
    "data.HIGH_SCHL_GPA=data.HIGH_SCHL_GPA.fillna(3.2)"
   ]
  },
  {
   "cell_type": "code",
   "execution_count": 51,
   "metadata": {},
   "outputs": [
    {
     "data": {
      "text/plain": [
       "Text(0, 0.5, 'No. of Stdnts')"
      ]
     },
     "execution_count": 51,
     "metadata": {},
     "output_type": "execute_result"
    },
    {
     "data": {
      "image/png": "[encoded data removed]",
      "text/plain": [
       "<Figure size 432x288 with 1 Axes>"
      ]
     },
     "metadata": {
      "needs_background": "light"
     },
     "output_type": "display_data"
    }
   ],
   "source": [
    "plt.hist(data.HIGH_SCHL_GPA,color='lightblue')\n",
    "plt.title('Distribution of High School GPA')\n",
    "plt.xlabel('GPA')\n",
    "plt.ylabel('No. of Stdnts')"
   ]
  },
  {
   "cell_type": "code",
   "execution_count": 52,
   "metadata": {},
   "outputs": [],
   "source": [
    "data=data.drop(['HIGH_SCHL_NAME', 'FATHER_HI_EDU_CD','MOTHER_HI_EDU_CD','DEGREE_GROUP_CD'],axis=1)"
   ]
  },
  {
   "cell_type": "code",
   "execution_count": 53,
   "metadata": {},
   "outputs": [
    {
     "name": "stdout",
     "output_type": "stream",
     "text": [
      "[9, 11, 12, 13, 14, 15, 16, 17, 18, 19, 20, 21]\n",
      "[0, 1, 2, 3, 4, 5, 6, 7, 8, 9, 10, 11, 12, 13, 14, 15, 16, 17, 18, 19, 20, 21]\n",
      "[0.0, 0.06666666666666667, 0.07142857142857142, 0.07692307692307693, 0.08333333333333333, 0.13333333333333333, 0.14285714285714285, 0.16666666666666666, 0.17647058823529413, 0.1875, 0.2, 0.21428571428571427, 0.23076923076923078, 0.25, 0.26666666666666666, 0.2857142857142857, 0.3076923076923077, 0.3333333333333333, 0.35294117647058826, 0.35714285714285715, 0.375, 0.38461538461538464, 0.3888888888888889, 0.4, 0.4117647058823529, 0.4166666666666667, 0.42857142857142855, 0.4375, 0.4444444444444444, 0.46153846153846156, 0.4666666666666667, 0.5, 0.5294117647058824, 0.5333333333333333, 0.5384615384615384, 0.5625, 0.5714285714285714, 0.5833333333333334, 0.5882352941176471, 0.6, 0.6111111111111112, 0.6153846153846154, 0.625, 0.6428571428571429, 0.6666666666666666, 0.6875, 0.6923076923076923, 0.7058823529411765, 0.7142857142857143, 0.7222222222222222, 0.7333333333333333, 0.7368421052631579, 0.75, 0.7647058823529411, 0.7692307692307693, 0.7777777777777778, 0.7857142857142857, 0.7894736842105263, 0.8, 0.8125, 0.8235294117647058, 0.8333333333333334, 0.8421052631578947, 0.8461538461538461, 0.8571428571428571, 0.8666666666666667, 0.875, 0.9166666666666666, 0.9230769230769231, 0.9285714285714286, 0.9333333333333333, 0.9375, 0.9411764705882353, 0.9444444444444444, 0.95, 1.0, 1.2307692307692308, 1.2727272727272727, 1.3333333333333333]\n"
     ]
    }
   ],
   "source": [
    "print(sorted(data.FIRST_TERM_ATTEMPT_HRS.unique()))\n",
    "print(sorted(data.FIRST_TERM_EARNED_HRS.unique()))\n",
    "\n",
    "data['FIRST_TERM_PERFORMANCE']=data.FIRST_TERM_EARNED_HRS/data.FIRST_TERM_ATTEMPT_HRS\n",
    "\n",
    "print(sorted(data.FIRST_TERM_PERFORMANCE.unique()))"
   ]
  },
  {
   "cell_type": "code",
   "execution_count": 54,
   "metadata": {},
   "outputs": [
    {
     "name": "stdout",
     "output_type": "stream",
     "text": [
      "Int64Index([906, 2262], dtype='int64')\n",
      "Int64Index([3342], dtype='int64')\n",
      "Int64Index([998], dtype='int64')\n"
     ]
    }
   ],
   "source": [
    "print(data.query(\"FIRST_TERM_PERFORMANCE==1.2307692307692308\").index)\n",
    "print(data.query(\"FIRST_TERM_PERFORMANCE==1.2727272727272727\").index)\n",
    "print(data.query(\"FIRST_TERM_PERFORMANCE==1.3333333333333333\").index)"
   ]
  },
  {
   "cell_type": "code",
   "execution_count": 55,
   "metadata": {},
   "outputs": [],
   "source": [
    "data=data.drop([998,3342,906,2262],axis=0)"
   ]
  },
  {
   "cell_type": "code",
   "execution_count": 56,
   "metadata": {},
   "outputs": [
    {
     "name": "stdout",
     "output_type": "stream",
     "text": [
      "[2.0, 3.0, 4.0, 6.0, 7.0, 8.0, 9.0, 10.0, 11.0, 12.0, 13.0, 14.0, 15.0, 16.0, 17.0, 18.0, 19.0, 20.0, 21.0, 22.0, 23.0, nan]\n",
      "[0.0, 1.0, 2.0, 3.0, 4.0, 5.0, 6.0, 7.0, 8.0, 9.0, 10.0, 11.0, 12.0, 13.0, 14.0, 15.0, 16.0, 17.0, 18.0, 19.0, 20.0, 21.0, 23.0, nan]\n",
      "[0.23076923076923078, 0.35714285714285715, 0.46153846153846156, 0.47368421052631576, 0.5, 0.5294117647058824, 0.5333333333333333, 0.5384615384615384, 0.5555555555555556, 0.5625, 0.5882352941176471, 0.6, 0.631578947368421, 0.6470588235294118, 0.6666666666666666, 0.6875, 0.6923076923076923, 0.7, 0.7058823529411765, 0.7142857142857143, 0.7222222222222222, 0.7333333333333333, 0.75, 0.7647058823529411, 0.7692307692307693, 0.7777777777777778, 0.7857142857142857, 0.7894736842105263, 0.8, 0.8125, 0.8181818181818182, 0.8235294117647058, 0.8333333333333334, 0.8571428571428571, 0.8666666666666667, 0.8823529411764706, 0.8947368421052632, 0.9230769230769231, 0.9285714285714286, 0.9333333333333333, 0.9375, 0.9411764705882353, 0.9444444444444444, 0.9473684210526315, 1.0, 1.0555555555555556, nan, 0.0, 0.08333333333333333, 0.1, 0.13333333333333333, 0.15384615384615385, 0.15789473684210525, 0.16666666666666666, 0.17647058823529413, 0.1875, 0.2, 0.21428571428571427, 0.25, 0.26666666666666666, 0.2857142857142857, 0.29411764705882354, 0.3, 0.3076923076923077, 0.3157894736842105, 0.3333333333333333, 0.36363636363636365, 0.375, 0.38461538461538464, 0.4, 0.4117647058823529, 0.4166666666666667, 0.42857142857142855, 0.4375, 0.4444444444444444, 0.45454545454545453, 0.4666666666666667, 0.47058823529411764, 0.5263157894736842, 0.5714285714285714, 0.5833333333333334, 0.6111111111111112, 0.625, 0.6363636363636364, 0.6428571428571429, 0.65, 0.6842105263157895, 0.7272727272727273, 0.8421052631578947, 0.8461538461538461, 0.875, 0.9, 0.9166666666666666]\n"
     ]
    }
   ],
   "source": [
    "print(sorted(data.SECOND_TERM_ATTEMPT_HRS.unique()))\n",
    "print(sorted(data.SECOND_TERM_EARNED_HRS.unique()))\n",
    "\n",
    "data['SECOND_TERM_PERFORMANCE']=data.SECOND_TERM_EARNED_HRS/data.SECOND_TERM_ATTEMPT_HRS\n",
    "\n",
    "print(sorted(data.SECOND_TERM_PERFORMANCE.unique()))"
   ]
  },
  {
   "cell_type": "code",
   "execution_count": 57,
   "metadata": {},
   "outputs": [
    {
     "name": "stdout",
     "output_type": "stream",
     "text": [
      "208\n"
     ]
    }
   ],
   "source": [
    "print(data.SECOND_TERM_PERFORMANCE.isnull().sum())\n",
    "data.SECOND_TERM_PERFORMANCE=data.SECOND_TERM_PERFORMANCE.fillna(data.SECOND_TERM_PERFORMANCE.mean())"
   ]
  },
  {
   "cell_type": "code",
   "execution_count": 58,
   "metadata": {},
   "outputs": [],
   "source": [
    "data=data.drop(['FIRST_TERM_ATTEMPT_HRS', 'FIRST_TERM_EARNED_HRS',\n",
    "       'SECOND_TERM_ATTEMPT_HRS', 'SECOND_TERM_EARNED_HRS'],axis=1)"
   ]
  },
  {
   "cell_type": "code",
   "execution_count": 59,
   "metadata": {},
   "outputs": [
    {
     "data": {
      "text/plain": [
       "Index(['STUDENT IDENTIFIER', 'STDNT_AGE', 'STDNT_GENDER', 'STDNT_BACKGROUND',\n",
       "       'IN_STATE_FLAG', 'INTERNATIONAL_STS', 'STDNT_MAJOR',\n",
       "       'STDNT_TEST_ENTRANCE_COMB', 'HOUSING_STS', 'HIGH_SCHL_GPA',\n",
       "       'FATHER_HI_EDU_DESC', 'MOTHER_HI_EDU_DESC', 'DEGREE_GROUP_DESC',\n",
       "       'GROSS_FIN_NEED', 'COST_OF_ATTEND', 'EST_FAM_CONTRIBUTION',\n",
       "       'UNMET_NEED', 'STDNT_LEFT', 'FIRST_TERM_PERFORMANCE',\n",
       "       'SECOND_TERM_PERFORMANCE'],\n",
       "      dtype='object')"
      ]
     },
     "execution_count": 59,
     "metadata": {},
     "output_type": "execute_result"
    }
   ],
   "source": [
    "data.columns"
   ]
  },
  {
   "cell_type": "code",
   "execution_count": 60,
   "metadata": {},
   "outputs": [
    {
     "data": {
      "text/html": [
       "<div>\n",
       "<style scoped>\n",
       "    .dataframe tbody tr th:only-of-type {\n",
       "        vertical-align: middle;\n",
       "    }\n",
       "\n",
       "    .dataframe tbody tr th {\n",
       "        vertical-align: top;\n",
       "    }\n",
       "\n",
       "    .dataframe thead th {\n",
       "        text-align: right;\n",
       "    }\n",
       "</style>\n",
       "<table border=\"1\" class=\"dataframe\">\n",
       "  <thead>\n",
       "    <tr style=\"text-align: right;\">\n",
       "      <th></th>\n",
       "      <th>FATHER_HI_EDU_DESC</th>\n",
       "      <th>STDNT_LEFT</th>\n",
       "      <th>No of attrition</th>\n",
       "      <th>Total no. of students</th>\n",
       "      <th>Attrition Percentage</th>\n",
       "    </tr>\n",
       "  </thead>\n",
       "  <tbody>\n",
       "    <tr>\n",
       "      <th>0</th>\n",
       "      <td>College/Beyond</td>\n",
       "      <td>1</td>\n",
       "      <td>256</td>\n",
       "      <td>1307</td>\n",
       "      <td>20.0</td>\n",
       "    </tr>\n",
       "    <tr>\n",
       "      <th>4</th>\n",
       "      <td>Other/Unknown</td>\n",
       "      <td>1</td>\n",
       "      <td>48</td>\n",
       "      <td>226</td>\n",
       "      <td>21.0</td>\n",
       "    </tr>\n",
       "    <tr>\n",
       "      <th>1</th>\n",
       "      <td>High School</td>\n",
       "      <td>1</td>\n",
       "      <td>288</td>\n",
       "      <td>1334</td>\n",
       "      <td>22.0</td>\n",
       "    </tr>\n",
       "    <tr>\n",
       "      <th>3</th>\n",
       "      <td>No Information</td>\n",
       "      <td>1</td>\n",
       "      <td>103</td>\n",
       "      <td>432</td>\n",
       "      <td>24.0</td>\n",
       "    </tr>\n",
       "    <tr>\n",
       "      <th>2</th>\n",
       "      <td>Middle School/Junior High</td>\n",
       "      <td>1</td>\n",
       "      <td>26</td>\n",
       "      <td>97</td>\n",
       "      <td>27.0</td>\n",
       "    </tr>\n",
       "  </tbody>\n",
       "</table>\n",
       "</div>"
      ],
      "text/plain": [
       "          FATHER_HI_EDU_DESC  STDNT_LEFT  No of attrition  \\\n",
       "0             College/Beyond           1              256   \n",
       "4              Other/Unknown           1               48   \n",
       "1                High School           1              288   \n",
       "3             No Information           1              103   \n",
       "2  Middle School/Junior High           1               26   \n",
       "\n",
       "   Total no. of students  Attrition Percentage  \n",
       "0                   1307                  20.0  \n",
       "4                    226                  21.0  \n",
       "1                   1334                  22.0  \n",
       "3                    432                  24.0  \n",
       "2                     97                  27.0  "
      ]
     },
     "execution_count": 60,
     "metadata": {},
     "output_type": "execute_result"
    }
   ],
   "source": [
    "FED1=data.groupby(['FATHER_HI_EDU_DESC','STDNT_LEFT'],as_index=False)['STUDENT IDENTIFIER'].agg('count')\n",
    "FED2=data.groupby('FATHER_HI_EDU_DESC',as_index=False)['STUDENT IDENTIFIER'].agg('count')\n",
    "FED=pd.merge(FED1,FED2,how='outer',on='FATHER_HI_EDU_DESC')\n",
    "FED=FED.query(\"STDNT_LEFT==1\")\n",
    "FED['Attrition Percentage']=round((FED['STUDENT IDENTIFIER_x']/FED['STUDENT IDENTIFIER_y'])*100,0)\n",
    "FED.rename(columns={\"STUDENT IDENTIFIER_x\":\"No of attrition\",\"STUDENT IDENTIFIER_y\":\"Total no. of students\"},inplace=True)\n",
    "ind=[]\n",
    "for i in range(len(FED.index)): ind=ind+[i] \n",
    "FED.index=ind\n",
    "FED.sort_values('Attrition Percentage')"
   ]
  },
  {
   "cell_type": "code",
   "execution_count": 61,
   "metadata": {},
   "outputs": [
    {
     "data": {
      "image/png": "[encoded data removed]",
      "text/plain": [
       "<Figure size 1008x576 with 1 Axes>"
      ]
     },
     "metadata": {
      "needs_background": "light"
     },
     "output_type": "display_data"
    }
   ],
   "source": [
    "f, axs = plt.subplots(figsize=(14,8))\n",
    "\n",
    "\n",
    "plt.bar(FED['FATHER_HI_EDU_DESC'],FED['Attrition Percentage'],width=0.8,color='lightpink')\n",
    "plt.title('Attrition percentage of Fathers education')\n",
    "plt.xlabel('Fathers education')\n",
    "plt.ylabel('Attrition Percentage')\n",
    "plt.xticks(rotation=90)\n",
    "\n",
    "for x,y in zip(FED['FATHER_HI_EDU_DESC'],FED['Attrition Percentage']):\n",
    "    label = \"{:.2f}\".format(y)\n",
    "    plt.annotate(label,(x,y),textcoords=\"offset points\",xytext=(0,10),ha='center')\n",
    "\n",
    "plt.tight_layout()\n",
    "plt.show()\n",
    "f.savefig(' Attrition of father education.jpeg')"
   ]
  },
  {
   "cell_type": "code",
   "execution_count": 62,
   "metadata": {},
   "outputs": [
    {
     "data": {
      "text/html": [
       "<div>\n",
       "<style scoped>\n",
       "    .dataframe tbody tr th:only-of-type {\n",
       "        vertical-align: middle;\n",
       "    }\n",
       "\n",
       "    .dataframe tbody tr th {\n",
       "        vertical-align: top;\n",
       "    }\n",
       "\n",
       "    .dataframe thead th {\n",
       "        text-align: right;\n",
       "    }\n",
       "</style>\n",
       "<table border=\"1\" class=\"dataframe\">\n",
       "  <thead>\n",
       "    <tr style=\"text-align: right;\">\n",
       "      <th></th>\n",
       "      <th>MOTHER_HI_EDU_DESC</th>\n",
       "      <th>STDNT_LEFT</th>\n",
       "      <th>No of attrition</th>\n",
       "      <th>Total no. of students</th>\n",
       "      <th>Attrition Percentage</th>\n",
       "    </tr>\n",
       "  </thead>\n",
       "  <tbody>\n",
       "    <tr>\n",
       "      <th>4</th>\n",
       "      <td>Other/Unknown</td>\n",
       "      <td>1</td>\n",
       "      <td>18</td>\n",
       "      <td>117</td>\n",
       "      <td>15.0</td>\n",
       "    </tr>\n",
       "    <tr>\n",
       "      <th>0</th>\n",
       "      <td>College/Beyond</td>\n",
       "      <td>1</td>\n",
       "      <td>299</td>\n",
       "      <td>1496</td>\n",
       "      <td>20.0</td>\n",
       "    </tr>\n",
       "    <tr>\n",
       "      <th>1</th>\n",
       "      <td>High School</td>\n",
       "      <td>1</td>\n",
       "      <td>265</td>\n",
       "      <td>1223</td>\n",
       "      <td>22.0</td>\n",
       "    </tr>\n",
       "    <tr>\n",
       "      <th>2</th>\n",
       "      <td>Middle School/Junior High</td>\n",
       "      <td>1</td>\n",
       "      <td>16</td>\n",
       "      <td>71</td>\n",
       "      <td>23.0</td>\n",
       "    </tr>\n",
       "    <tr>\n",
       "      <th>3</th>\n",
       "      <td>No Information</td>\n",
       "      <td>1</td>\n",
       "      <td>123</td>\n",
       "      <td>489</td>\n",
       "      <td>25.0</td>\n",
       "    </tr>\n",
       "  </tbody>\n",
       "</table>\n",
       "</div>"
      ],
      "text/plain": [
       "          MOTHER_HI_EDU_DESC  STDNT_LEFT  No of attrition  \\\n",
       "4              Other/Unknown           1               18   \n",
       "0             College/Beyond           1              299   \n",
       "1                High School           1              265   \n",
       "2  Middle School/Junior High           1               16   \n",
       "3             No Information           1              123   \n",
       "\n",
       "   Total no. of students  Attrition Percentage  \n",
       "4                    117                  15.0  \n",
       "0                   1496                  20.0  \n",
       "1                   1223                  22.0  \n",
       "2                     71                  23.0  \n",
       "3                    489                  25.0  "
      ]
     },
     "execution_count": 62,
     "metadata": {},
     "output_type": "execute_result"
    }
   ],
   "source": [
    "MED1=data.groupby(['MOTHER_HI_EDU_DESC','STDNT_LEFT'],as_index=False)['STUDENT IDENTIFIER'].agg('count')\n",
    "MED2=data.groupby('MOTHER_HI_EDU_DESC',as_index=False)['STUDENT IDENTIFIER'].agg('count')\n",
    "MED=pd.merge(MED1,MED2,how='outer',on='MOTHER_HI_EDU_DESC')\n",
    "MED=MED.query(\"STDNT_LEFT==1\")\n",
    "MED['Attrition Percentage']=round((MED['STUDENT IDENTIFIER_x']/MED['STUDENT IDENTIFIER_y'])*100,0)\n",
    "MED.rename(columns={\"STUDENT IDENTIFIER_x\":\"No of attrition\",\"STUDENT IDENTIFIER_y\":\"Total no. of students\"},inplace=True)\n",
    "ind=[]\n",
    "for i in range(len(FED.index)): ind=ind+[i] \n",
    "MED.index=ind\n",
    "MED.sort_values('Attrition Percentage')"
   ]
  },
  {
   "cell_type": "code",
   "execution_count": 63,
   "metadata": {},
   "outputs": [
    {
     "data": {
      "image/png": "[encoded data removed]",
      "text/plain": [
       "<Figure size 1008x576 with 1 Axes>"
      ]
     },
     "metadata": {
      "needs_background": "light"
     },
     "output_type": "display_data"
    }
   ],
   "source": [
    "h, axs = plt.subplots(figsize=(14,8))\n",
    "\n",
    "\n",
    "\n",
    "plt.bar(MED['MOTHER_HI_EDU_DESC'],MED['Attrition Percentage'],width=0.5,color='cyan')\n",
    "plt.title('Attrition percentage of Mothers education')\n",
    "plt.xlabel('Mothers education')\n",
    "plt.ylabel('Attrition Percentage')\n",
    "plt.xticks(rotation=90)\n",
    "\n",
    "for x,y in zip(MED['MOTHER_HI_EDU_DESC'],MED['Attrition Percentage']):\n",
    "    label = \"{:.2f}\".format(y)\n",
    "    plt.annotate(label,(x,y),textcoords=\"offset points\",xytext=(0,10),ha='center')\n",
    "\n",
    "plt.tight_layout()\n",
    "plt.show()\n",
    "h.savefig(' Attrition of mother education.jpeg')"
   ]
  },
  {
   "cell_type": "code",
   "execution_count": 64,
   "metadata": {},
   "outputs": [
    {
     "data": {
      "image/png": "[encoded data removed]",
      "text/plain": [
       "<Figure size 789.875x720 with 20 Axes>"
      ]
     },
     "metadata": {
      "needs_background": "light"
     },
     "output_type": "display_data"
    }
   ],
   "source": [
    "sns.pairplot(data,x_vars=['GROSS_FIN_NEED', 'COST_OF_ATTEND', 'EST_FAM_CONTRIBUTION','UNMET_NEED'],\n",
    "             y_vars=['GROSS_FIN_NEED', 'COST_OF_ATTEND', 'EST_FAM_CONTRIBUTION','UNMET_NEED'],kind='scatter',diag_kind='hist',\n",
    "             hue='STDNT_LEFT')\n",
    "plt.tight_layout()\n",
    "plt.savefig('Financial statement - Pairplot.jpeg')"
   ]
  },
  {
   "cell_type": "code",
   "execution_count": 65,
   "metadata": {},
   "outputs": [],
   "source": [
    "data=data.drop('GROSS_FIN_NEED',axis=1)"
   ]
  },
  {
   "cell_type": "code",
   "execution_count": 66,
   "metadata": {},
   "outputs": [],
   "source": [
    "data=pd.get_dummies(data)"
   ]
  },
  {
   "cell_type": "code",
   "execution_count": 67,
   "metadata": {},
   "outputs": [
    {
     "data": {
      "text/html": [
       "<div>\n",
       "<style scoped>\n",
       "    .dataframe tbody tr th:only-of-type {\n",
       "        vertical-align: middle;\n",
       "    }\n",
       "\n",
       "    .dataframe tbody tr th {\n",
       "        vertical-align: top;\n",
       "    }\n",
       "\n",
       "    .dataframe thead th {\n",
       "        text-align: right;\n",
       "    }\n",
       "</style>\n",
       "<table border=\"1\" class=\"dataframe\">\n",
       "  <thead>\n",
       "    <tr style=\"text-align: right;\">\n",
       "      <th></th>\n",
       "      <th>STUDENT IDENTIFIER</th>\n",
       "      <th>STDNT_TEST_ENTRANCE_COMB</th>\n",
       "      <th>HIGH_SCHL_GPA</th>\n",
       "      <th>COST_OF_ATTEND</th>\n",
       "      <th>EST_FAM_CONTRIBUTION</th>\n",
       "      <th>UNMET_NEED</th>\n",
       "      <th>STDNT_LEFT</th>\n",
       "      <th>FIRST_TERM_PERFORMANCE</th>\n",
       "      <th>SECOND_TERM_PERFORMANCE</th>\n",
       "      <th>STDNT_AGE_16to18</th>\n",
       "      <th>...</th>\n",
       "      <th>FATHER_HI_EDU_DESC_No Information</th>\n",
       "      <th>FATHER_HI_EDU_DESC_Other/Unknown</th>\n",
       "      <th>MOTHER_HI_EDU_DESC_College/Beyond</th>\n",
       "      <th>MOTHER_HI_EDU_DESC_High School</th>\n",
       "      <th>MOTHER_HI_EDU_DESC_Middle School/Junior High</th>\n",
       "      <th>MOTHER_HI_EDU_DESC_No Information</th>\n",
       "      <th>MOTHER_HI_EDU_DESC_Other/Unknown</th>\n",
       "      <th>DEGREE_GROUP_DESC_Associate</th>\n",
       "      <th>DEGREE_GROUP_DESC_Bachelors</th>\n",
       "      <th>DEGREE_GROUP_DESC_Career Associate</th>\n",
       "    </tr>\n",
       "  </thead>\n",
       "  <tbody>\n",
       "    <tr>\n",
       "      <th>0</th>\n",
       "      <td>7808615</td>\n",
       "      <td>1150.0</td>\n",
       "      <td>4.00</td>\n",
       "      <td>0</td>\n",
       "      <td>0</td>\n",
       "      <td>0.0</td>\n",
       "      <td>1</td>\n",
       "      <td>1.0</td>\n",
       "      <td>1.0</td>\n",
       "      <td>1</td>\n",
       "      <td>...</td>\n",
       "      <td>1</td>\n",
       "      <td>0</td>\n",
       "      <td>0</td>\n",
       "      <td>0</td>\n",
       "      <td>0</td>\n",
       "      <td>1</td>\n",
       "      <td>0</td>\n",
       "      <td>0</td>\n",
       "      <td>1</td>\n",
       "      <td>0</td>\n",
       "    </tr>\n",
       "    <tr>\n",
       "      <th>1</th>\n",
       "      <td>7830063</td>\n",
       "      <td>1190.0</td>\n",
       "      <td>2.89</td>\n",
       "      <td>1355760</td>\n",
       "      <td>785760</td>\n",
       "      <td>459300.0</td>\n",
       "      <td>0</td>\n",
       "      <td>1.0</td>\n",
       "      <td>1.0</td>\n",
       "      <td>0</td>\n",
       "      <td>...</td>\n",
       "      <td>0</td>\n",
       "      <td>0</td>\n",
       "      <td>1</td>\n",
       "      <td>0</td>\n",
       "      <td>0</td>\n",
       "      <td>0</td>\n",
       "      <td>0</td>\n",
       "      <td>0</td>\n",
       "      <td>1</td>\n",
       "      <td>0</td>\n",
       "    </tr>\n",
       "    <tr>\n",
       "      <th>2</th>\n",
       "      <td>7847538</td>\n",
       "      <td>1030.0</td>\n",
       "      <td>3.39</td>\n",
       "      <td>0</td>\n",
       "      <td>0</td>\n",
       "      <td>0.0</td>\n",
       "      <td>0</td>\n",
       "      <td>1.0</td>\n",
       "      <td>1.0</td>\n",
       "      <td>1</td>\n",
       "      <td>...</td>\n",
       "      <td>0</td>\n",
       "      <td>0</td>\n",
       "      <td>0</td>\n",
       "      <td>0</td>\n",
       "      <td>0</td>\n",
       "      <td>0</td>\n",
       "      <td>1</td>\n",
       "      <td>0</td>\n",
       "      <td>1</td>\n",
       "      <td>0</td>\n",
       "    </tr>\n",
       "    <tr>\n",
       "      <th>3</th>\n",
       "      <td>8006429</td>\n",
       "      <td>1220.0</td>\n",
       "      <td>2.93</td>\n",
       "      <td>0</td>\n",
       "      <td>0</td>\n",
       "      <td>0.0</td>\n",
       "      <td>0</td>\n",
       "      <td>1.0</td>\n",
       "      <td>1.0</td>\n",
       "      <td>1</td>\n",
       "      <td>...</td>\n",
       "      <td>0</td>\n",
       "      <td>0</td>\n",
       "      <td>1</td>\n",
       "      <td>0</td>\n",
       "      <td>0</td>\n",
       "      <td>0</td>\n",
       "      <td>0</td>\n",
       "      <td>0</td>\n",
       "      <td>1</td>\n",
       "      <td>0</td>\n",
       "    </tr>\n",
       "    <tr>\n",
       "      <th>4</th>\n",
       "      <td>7962680</td>\n",
       "      <td>1190.0</td>\n",
       "      <td>3.86</td>\n",
       "      <td>1355760</td>\n",
       "      <td>519840</td>\n",
       "      <td>278340.0</td>\n",
       "      <td>0</td>\n",
       "      <td>1.0</td>\n",
       "      <td>1.0</td>\n",
       "      <td>1</td>\n",
       "      <td>...</td>\n",
       "      <td>0</td>\n",
       "      <td>0</td>\n",
       "      <td>0</td>\n",
       "      <td>1</td>\n",
       "      <td>0</td>\n",
       "      <td>0</td>\n",
       "      <td>0</td>\n",
       "      <td>0</td>\n",
       "      <td>1</td>\n",
       "      <td>0</td>\n",
       "    </tr>\n",
       "  </tbody>\n",
       "</table>\n",
       "<p>5 rows × 52 columns</p>\n",
       "</div>"
      ],
      "text/plain": [
       "   STUDENT IDENTIFIER  STDNT_TEST_ENTRANCE_COMB  HIGH_SCHL_GPA  \\\n",
       "0             7808615                    1150.0           4.00   \n",
       "1             7830063                    1190.0           2.89   \n",
       "2             7847538                    1030.0           3.39   \n",
       "3             8006429                    1220.0           2.93   \n",
       "4             7962680                    1190.0           3.86   \n",
       "\n",
       "   COST_OF_ATTEND  EST_FAM_CONTRIBUTION  UNMET_NEED  STDNT_LEFT  \\\n",
       "0               0                     0         0.0           1   \n",
       "1         1355760                785760    459300.0           0   \n",
       "2               0                     0         0.0           0   \n",
       "3               0                     0         0.0           0   \n",
       "4         1355760                519840    278340.0           0   \n",
       "\n",
       "   FIRST_TERM_PERFORMANCE  SECOND_TERM_PERFORMANCE  STDNT_AGE_16to18  ...  \\\n",
       "0                     1.0                      1.0                 1  ...   \n",
       "1                     1.0                      1.0                 0  ...   \n",
       "2                     1.0                      1.0                 1  ...   \n",
       "3                     1.0                      1.0                 1  ...   \n",
       "4                     1.0                      1.0                 1  ...   \n",
       "\n",
       "   FATHER_HI_EDU_DESC_No Information  FATHER_HI_EDU_DESC_Other/Unknown  \\\n",
       "0                                  1                                 0   \n",
       "1                                  0                                 0   \n",
       "2                                  0                                 0   \n",
       "3                                  0                                 0   \n",
       "4                                  0                                 0   \n",
       "\n",
       "   MOTHER_HI_EDU_DESC_College/Beyond  MOTHER_HI_EDU_DESC_High School  \\\n",
       "0                                  0                               0   \n",
       "1                                  1                               0   \n",
       "2                                  0                               0   \n",
       "3                                  1                               0   \n",
       "4                                  0                               1   \n",
       "\n",
       "   MOTHER_HI_EDU_DESC_Middle School/Junior High  \\\n",
       "0                                             0   \n",
       "1                                             0   \n",
       "2                                             0   \n",
       "3                                             0   \n",
       "4                                             0   \n",
       "\n",
       "   MOTHER_HI_EDU_DESC_No Information  MOTHER_HI_EDU_DESC_Other/Unknown  \\\n",
       "0                                  1                                 0   \n",
       "1                                  0                                 0   \n",
       "2                                  0                                 1   \n",
       "3                                  0                                 0   \n",
       "4                                  0                                 0   \n",
       "\n",
       "   DEGREE_GROUP_DESC_Associate  DEGREE_GROUP_DESC_Bachelors  \\\n",
       "0                            0                            1   \n",
       "1                            0                            1   \n",
       "2                            0                            1   \n",
       "3                            0                            1   \n",
       "4                            0                            1   \n",
       "\n",
       "   DEGREE_GROUP_DESC_Career Associate  \n",
       "0                                   0  \n",
       "1                                   0  \n",
       "2                                   0  \n",
       "3                                   0  \n",
       "4                                   0  \n",
       "\n",
       "[5 rows x 52 columns]"
      ]
     },
     "execution_count": 67,
     "metadata": {},
     "output_type": "execute_result"
    }
   ],
   "source": [
    "data.head()"
   ]
  },
  {
   "cell_type": "code",
   "execution_count": 68,
   "metadata": {},
   "outputs": [],
   "source": [
    "X=data.drop(['STUDENT IDENTIFIER','STDNT_LEFT'],axis=1)"
   ]
  },
  {
   "cell_type": "code",
   "execution_count": 69,
   "metadata": {},
   "outputs": [],
   "source": [
    "y=data['STDNT_LEFT']"
   ]
  },
  {
   "cell_type": "code",
   "execution_count": 70,
   "metadata": {},
   "outputs": [],
   "source": [
    "from sklearn.model_selection import train_test_split\n",
    "X_train,X_test,y_train,y_test=train_test_split(X,y,test_size=0.2,random_state=123)"
   ]
  },
  {
   "cell_type": "code",
   "execution_count": 71,
   "metadata": {},
   "outputs": [
    {
     "data": {
      "text/plain": [
       "GradientBoostingClassifier(n_estimators=80, random_state=123)"
      ]
     },
     "execution_count": 71,
     "metadata": {},
     "output_type": "execute_result"
    }
   ],
   "source": [
    "from sklearn.ensemble import GradientBoostingClassifier\n",
    "clf=GradientBoostingClassifier(n_estimators=80,random_state=123)\n",
    "clf.fit(X_train,y_train)"
   ]
  },
  {
   "cell_type": "code",
   "execution_count": 72,
   "metadata": {},
   "outputs": [
    {
     "data": {
      "text/plain": [
       "0.8382352941176471"
      ]
     },
     "execution_count": 72,
     "metadata": {},
     "output_type": "execute_result"
    }
   ],
   "source": [
    "clf.score(X_test,y_test)"
   ]
  },
  {
   "cell_type": "code",
   "execution_count": 73,
   "metadata": {},
   "outputs": [
    {
     "name": "stdout",
     "output_type": "stream",
     "text": [
      "For n_estimators = 10\n",
      "score is 0.8308823529411765\n",
      "__________________\n",
      "For n_estimators = 30\n",
      "score is 0.836764705882353\n",
      "__________________\n",
      "For n_estimators = 50\n",
      "score is 0.8382352941176471\n",
      "__________________\n",
      "For n_estimators = 70\n",
      "score is 0.8382352941176471\n",
      "__________________\n",
      "For n_estimators = 90\n",
      "score is 0.8382352941176471\n",
      "__________________\n",
      "For n_estimators = 110\n",
      "score is 0.8411764705882353\n",
      "__________________\n",
      "For n_estimators = 130\n",
      "score is 0.8397058823529412\n",
      "__________________\n",
      "For n_estimators = 150\n",
      "score is 0.8352941176470589\n",
      "__________________\n",
      "For n_estimators = 170\n",
      "score is 0.8382352941176471\n",
      "__________________\n",
      "For n_estimators = 190\n",
      "score is 0.836764705882353\n",
      "__________________\n",
      "For n_estimators = 210\n",
      "score is 0.8352941176470589\n",
      "__________________\n",
      "For n_estimators = 230\n",
      "score is 0.8352941176470589\n",
      "__________________\n",
      "For n_estimators = 250\n",
      "score is 0.8338235294117647\n",
      "__________________\n",
      "For n_estimators = 270\n",
      "score is 0.8323529411764706\n",
      "__________________\n",
      "For n_estimators = 290\n",
      "score is 0.8308823529411765\n",
      "__________________\n"
     ]
    }
   ],
   "source": [
    "for w in range(10,300,20):\n",
    "    clf=GradientBoostingClassifier(n_estimators=w,random_state=123)\n",
    "    clf.fit(X_train,y_train)\n",
    "    score=clf.score(X_test,y_test)\n",
    "    print('For n_estimators = '+str(w))\n",
    "    print('score is '+str(score))\n",
    "    print('__________________')"
   ]
  },
  {
   "cell_type": "code",
   "execution_count": 74,
   "metadata": {},
   "outputs": [
    {
     "data": {
      "text/plain": [
       "GradientBoostingClassifier(n_estimators=210, random_state=123)"
      ]
     },
     "execution_count": 74,
     "metadata": {},
     "output_type": "execute_result"
    }
   ],
   "source": [
    "clf=GradientBoostingClassifier(n_estimators=210,random_state=123)\n",
    "clf.fit(X_train,y_train)"
   ]
  },
  {
   "cell_type": "code",
   "execution_count": 75,
   "metadata": {},
   "outputs": [
    {
     "data": {
      "text/plain": [
       "0.8352941176470589"
      ]
     },
     "execution_count": 75,
     "metadata": {},
     "output_type": "execute_result"
    }
   ],
   "source": [
    "clf.score(X_test,y_test)"
   ]
  },
  {
   "cell_type": "code",
   "execution_count": 76,
   "metadata": {},
   "outputs": [
    {
     "name": "stdout",
     "output_type": "stream",
     "text": [
      "The AUC for the model : 0.6899603174603175\n",
      "\n",
      "\n",
      "Confusion matrix : \n",
      " [[524  16]\n",
      " [ 96  44]]\n"
     ]
    }
   ],
   "source": [
    "from sklearn import metrics\n",
    "y_pred = clf.predict(X_test)\n",
    "print('The AUC for the model :',str(metrics.roc_auc_score(y_test,clf.predict_proba(X_test)[:,1])))\n",
    "print('\\n')\n",
    "print('Confusion matrix :','\\n',str(metrics.confusion_matrix(y_test,y_pred)))"
   ]
  },
  {
   "cell_type": "code",
   "execution_count": 77,
   "metadata": {},
   "outputs": [
    {
     "data": {
      "image/png": "[encoded data removed]",
      "text/plain": [
       "<Figure size 432x288 with 1 Axes>"
      ]
     },
     "metadata": {
      "needs_background": "light"
     },
     "output_type": "display_data"
    }
   ],
   "source": [
    "from sklearn.metrics import plot_roc_curve\n",
    "svc_disp = plot_roc_curve(clf, X_test, y_test)\n",
    "plt.title('ROC')\n",
    "plt.savefig('ROC.jpeg')\n",
    "plt.show()"
   ]
  },
  {
   "cell_type": "code",
   "execution_count": 78,
   "metadata": {},
   "outputs": [],
   "source": [
    "imp=clf.feature_importances_"
   ]
  },
  {
   "cell_type": "code",
   "execution_count": 79,
   "metadata": {},
   "outputs": [
    {
     "data": {
      "text/plain": [
       "SECOND_TERM_PERFORMANCE                         0.483603\n",
       "UNMET_NEED                                      0.106069\n",
       "HIGH_SCHL_GPA                                   0.074393\n",
       "EST_FAM_CONTRIBUTION                            0.053896\n",
       "COST_OF_ATTEND                                  0.039001\n",
       "STDNT_TEST_ENTRANCE_COMB                        0.037163\n",
       "FIRST_TERM_PERFORMANCE                          0.034683\n",
       "HOUSING_STS_Off Campus                          0.012249\n",
       "STDNT_MAJOR_Music Performance                   0.009926\n",
       "STDNT_BACKGROUND_BGD 1                          0.009205\n",
       "STDNT_MAJOR_Theatre Arts                        0.008487\n",
       "STDNT_MAJOR_Criminal Justice                    0.007899\n",
       "MOTHER_HI_EDU_DESC_No Information               0.006800\n",
       "STDNT_BACKGROUND_BGD 3                          0.006799\n",
       "STDNT_MAJOR_Music Education                     0.006488\n",
       "STDNT_BACKGROUND_BGD 4                          0.006432\n",
       "STDNT_MAJOR_Pre-Nursing                         0.006413\n",
       "STDNT_MAJOR_Psychology                          0.006333\n",
       "STDNT_MAJOR_Biology                             0.006313\n",
       "HOUSING_STS_On Campus                           0.005869\n",
       "STDNT_GENDER_F                                  0.005636\n",
       "STDNT_MAJOR_Pre-Business                        0.005092\n",
       "FATHER_HI_EDU_DESC_Middle School/Junior High    0.005004\n",
       "FATHER_HI_EDU_DESC_Other/Unknown                0.004606\n",
       "INTERNATIONAL_STS_N                             0.004532\n",
       "STDNT_MAJOR_Others                              0.004027\n",
       "MOTHER_HI_EDU_DESC_Middle School/Junior High    0.003852\n",
       "STDNT_BACKGROUND_BGD 5                          0.003600\n",
       "FATHER_HI_EDU_DESC_College/Beyond               0.003433\n",
       "MOTHER_HI_EDU_DESC_Other/Unknown                0.003400\n",
       "FATHER_HI_EDU_DESC_High School                  0.003347\n",
       "MOTHER_HI_EDU_DESC_High School                  0.002767\n",
       "STDNT_MAJOR_Early Childhood Education           0.002639\n",
       "STDNT_BACKGROUND_BGD 6                          0.002491\n",
       "IN_STATE_FLAG_N                                 0.002357\n",
       "INTERNATIONAL_STS_Y                             0.002232\n",
       "STDNT_GENDER_M                                  0.002185\n",
       "DEGREE_GROUP_DESC_Career Associate              0.001598\n",
       "STDNT_MAJOR_Nursing                             0.001409\n",
       "STDNT_AGE_19to21                                0.001385\n",
       "MOTHER_HI_EDU_DESC_College/Beyond               0.001275\n",
       "STDNT_AGE_16to18                                0.001223\n",
       "DEGREE_GROUP_DESC_Bachelors                     0.000955\n",
       "STDNT_BACKGROUND_BGD 7                          0.000806\n",
       "IN_STATE_FLAG_Y                                 0.000662\n",
       "DEGREE_GROUP_DESC_Associate                     0.000557\n",
       "STDNT_AGE_22to26                                0.000480\n",
       "FATHER_HI_EDU_DESC_No Information               0.000428\n",
       "STDNT_BACKGROUND_BGD 2                          0.000000\n",
       "STDNT_BACKGROUND_BGD 8                          0.000000\n",
       "dtype: float64"
      ]
     },
     "execution_count": 79,
     "metadata": {},
     "output_type": "execute_result"
    }
   ],
   "source": [
    "feature_importance=pd.Series(imp,index=X.columns.tolist()).sort_values(ascending=False)\n",
    "feature_importance"
   ]
  },
  {
   "cell_type": "code",
   "execution_count": 80,
   "metadata": {},
   "outputs": [
    {
     "data": {
      "text/plain": [
       "<AxesSubplot:>"
      ]
     },
     "execution_count": 80,
     "metadata": {},
     "output_type": "execute_result"
    },
    {
     "data": {
      "image/png": "[encoded data removed]",
      "text/plain": [
       "<Figure size 432x288 with 1 Axes>"
      ]
     },
     "metadata": {
      "needs_background": "light"
     },
     "output_type": "display_data"
    }
   ],
   "source": [
    "feature_importance.head().plot(kind='bar')"
   ]
  },
  {
   "cell_type": "code",
   "execution_count": null,
   "metadata": {},
   "outputs": [],
   "source": []
  }
 ],
 "metadata": {
  "kernelspec": {
   "display_name": "Python 3",
   "language": "python",
   "name": "python3"
  }
 },
 "nbformat": 4,
 "nbformat_minor": 4
}
